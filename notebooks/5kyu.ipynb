{
 "cells": [
  {
   "cell_type": "code",
   "execution_count": 3,
   "metadata": {},
   "outputs": [],
   "source": [
    "def assert_equals(solution, ans, *args):\n",
    "    assert solution == ans, f\"{solution} should equal {ans}\""
   ]
  },
  {
   "cell_type": "markdown",
   "metadata": {},
   "source": [
    "# Not very secure\n",
    "\n",
    "In this example you have to validate if a user input string is alphanumeric. The given string is not nil/null/NULL/None, so you don't have to check that.\n",
    "\n",
    "The string has the following conditions to be alphanumeric:\n",
    "\n",
    "At least one character (\"\" is not valid)\n",
    "Allowed characters are uppercase / lowercase latin letters and digits from 0 to 9\n",
    "No whitespaces / underscore"
   ]
  },
  {
   "cell_type": "code",
   "execution_count": 37,
   "metadata": {},
   "outputs": [],
   "source": [
    "import re\n",
    "\n",
    "def alphanumeric(password):\n",
    "    return bool(re.search(r\"^[a-zA-Z0-9]+$\", password))\n",
    "\n",
    "def alphanumeric(s):\n",
    "    return s.isalnum()\n",
    "\n",
    "tests = [\n",
    "        (\"hello world_\", False),\n",
    "        (\"PassW0rd\", True),\n",
    "        (\"     \", False)\n",
    "    ]\n",
    "\n",
    "for s, b in tests:\n",
    "    assert_equals(alphanumeric(s), b)"
   ]
  },
  {
   "cell_type": "markdown",
   "metadata": {},
   "source": [
    "# Extract the domain name from a URL\n",
    "\n",
    "Write a function that when given a URL as a string, parses out just the domain name and returns it as a string. For example:\n",
    "\n",
    "* url = \"http://github.com/carbonfive/raygun\" -> domain name = \"github\"\n",
    "\n",
    "* url = \"http://www.zombie-bites.com\"         -> domain name = \"zombie-bites\"\n",
    "\n",
    "* url = \"https://www.cnet.com\"                -> domain name = cnet\""
   ]
  },
  {
   "cell_type": "code",
   "execution_count": 34,
   "metadata": {},
   "outputs": [],
   "source": [
    "import re\n",
    "\n",
    "def domain_name(url):\n",
    "    url = re.sub(\"^(https?://)?(www\\.)?\", \"\", url)\n",
    "    return re.search(\"[a-zA-Z0-9\\-]+?(?=\\.)\", url).group(0)\n",
    "    # return re.search(r\"((?<=/|\\.)|^[^www])[a-zA-Z0-9\\-]+?(?=\\.)\", url).group(0)\n",
    "\n",
    "def domain_name(url):\n",
    "    return url.split(\"//\")[-1].split(\"www.\")[-1].split(\".\")[0]\n",
    "\n",
    "def domain_name(url):\n",
    "    return re.search('(https?://)?(www\\d?\\.)?(?P<name>[\\w-]+)\\.', url).group('name')\n",
    "    \n",
    "assert_equals(domain_name(\"https://123.net\"), \"123\")\n",
    "assert_equals(domain_name(\"https://hyphen-site.org\"), \"hyphen-site\")\n",
    "assert_equals(domain_name(\"scmztno.pro/error\"), \"scmztno\")\n",
    "assert_equals(domain_name(\"http://google.co.jp\"), \"google\")\n",
    "assert_equals(domain_name(\"https://youtube.com\"), \"youtube\")\n",
    "assert_equals(domain_name(\"www.xakep.ru\"), \"xakep\")"
   ]
  },
  {
   "cell_type": "markdown",
   "metadata": {},
   "source": [
    "# Perimeter of squares in a rectangle\n",
    "\n",
    "\n",
    "The drawing shows 6 squares the sides of which have a length of 1, 1, 2, 3, 5, 8. It's easy to see that the sum of the perimeters of these squares is : 4 * (1 + 1 + 2 + 3 + 5 + 8) = 4 * 20 = 80 \n",
    "\n",
    "Could you give the sum of the perimeters of all the squares in a rectangle when there are n + 1 squares disposed in the same manner as in the drawing:\n",
    "\n",
    "Hint:\n",
    "See Fibonacci sequence\n",
    "\n",
    "Ref:\n",
    "http://oeis.org/A000045\n",
    "\n",
    "The function perimeter has for parameter n where n + 1 is the number of squares (they are numbered from 0 to n) and returns the total perimeter of all the squares.\n",
    "\n",
    "perimeter(5)  should return 80\n",
    "\n",
    "perimeter(7)  should return 216"
   ]
  },
  {
   "cell_type": "code",
   "execution_count": 10,
   "metadata": {},
   "outputs": [
    {
     "name": "stdout",
     "output_type": "stream",
     "text": [
      "69.9 µs ± 1.59 µs per loop (mean ± std. dev. of 7 runs, 10,000 loops each)\n"
     ]
    }
   ],
   "source": [
    "%%timeit\n",
    "\n",
    "def fib(n):\n",
    "    a, b = 0, 1\n",
    "\n",
    "    for i in range(n+1):\n",
    "        if i == 0:\n",
    "            yield b \n",
    "        else:\n",
    "            a, b = b, a + b\n",
    "            yield b\n",
    "        \n",
    "\n",
    "def perimeter(n):\n",
    "    return sum(fib(n)) * 4\n",
    "\n",
    "assert_equals(perimeter(5), 80)\n",
    "assert_equals(perimeter(7), 216)\n",
    "assert_equals(perimeter(20), 114624)\n",
    "assert_equals(perimeter(30), 14098308)\n",
    "assert_equals(perimeter(100), 6002082144827584333104)\n",
    "assert_equals(perimeter(500), 2362425027542282167538999091770205712168371625660854753765546783141099308400948230006358531927265833165504)\n"
   ]
  },
  {
   "cell_type": "code",
   "execution_count": 9,
   "metadata": {},
   "outputs": [
    {
     "name": "stdout",
     "output_type": "stream",
     "text": [
      "44.2 µs ± 2.13 µs per loop (mean ± std. dev. of 7 runs, 10,000 loops each)\n"
     ]
    }
   ],
   "source": [
    "%%timeit\n",
    "def perimeter(n):\n",
    "    # ??????????????????????\n",
    "    a, b = 1, 2\n",
    "    while n:\n",
    "        a, b, n = b, a + b, n - 1\n",
    "    return 4 * (b - 1)\n",
    "\n",
    "\n",
    "assert_equals(perimeter(5), 80)\n",
    "assert_equals(perimeter(7), 216)\n",
    "assert_equals(perimeter(20), 114624)\n",
    "assert_equals(perimeter(30), 14098308)\n",
    "assert_equals(perimeter(100), 6002082144827584333104)\n",
    "assert_equals(perimeter(500), 2362425027542282167538999091770205712168371625660854753765546783141099308400948230006358531927265833165504)"
   ]
  },
  {
   "cell_type": "markdown",
   "metadata": {},
   "source": [
    "# Maximum subarray sum\n",
    "\n",
    "\n",
    "The maximum sum subarray problem consists in finding the maximum sum of a contiguous subsequence in an array or list of integers:\n",
    "\n",
    "max_sequence([-2, 1, -3, 4, -1, 2, 1, -5, 4])\n",
    "\n",
    "should be 6: [4, -1, 2, 1]\n",
    "\n",
    "Easy case is when the list is made up of only positive numbers and the maximum sum is the sum of the whole array. If the list is made up of only negative numbers, return 0 instead.\n",
    "\n",
    "Empty list is considered to have zero greatest sum. Note that the empty list or array is also a valid sublist/subarray.\n",
    "\n"
   ]
  },
  {
   "cell_type": "code",
   "execution_count": 2,
   "metadata": {},
   "outputs": [],
   "source": [
    "def max_sequence(arr):\n",
    "    max_sum, current_sum = 0, 0\n",
    "    for x in arr:\n",
    "        current_sum += x\n",
    "        if current_sum < 0:\n",
    "            current_sum = 0\n",
    "        if current_sum > max_sum:\n",
    "            max_sum = current_sum\n",
    "    return max_sum\n",
    "\n",
    "assert_equals(max_sequence([7, 4, 11, -11, 39, 36, 10, -6, 37, -10, -32, 44, -26, -34, 43, 43]), 155)\n",
    "assert_equals(max_sequence([3, -1, 6]), 8)\n",
    "assert_equals(max_sequence([]), 0)\n",
    "assert_equals(max_sequence([-2, -3]), 0)\n",
    "assert_equals(max_sequence([-2, 1, -3, 4, -1, 2, 1, -5, 4]), 6)"
   ]
  },
  {
   "cell_type": "markdown",
   "metadata": {},
   "source": [
    "# First non-repeating character\n",
    "\n",
    "Write a function named first_non_repeating_letter that takes a string input, and returns the first character that is not repeated anywhere in the string.\n",
    "\n",
    "For example, if given the input 'stress', the function should return 't', since the letter t only occurs once in the string, and occurs first in the string.\n",
    "\n",
    "As an added challenge, upper- and lowercase letters are considered the same character, but the function should return the correct case for the initial letter. For example, the input 'sTreSS' should return 'T'.\n",
    "\n",
    "If a string contains all repeating characters, it should return an empty string (\"\") or None -- see sample tests."
   ]
  },
  {
   "cell_type": "code",
   "execution_count": 3,
   "metadata": {},
   "outputs": [],
   "source": [
    "def first_non_repeating_letter(s):\n",
    "\n",
    "    string_lower = s.lower()\n",
    "    for i, letter in enumerate(string_lower):\n",
    "        if string_lower.count(letter) == 1:\n",
    "            return s[i]\n",
    "            \n",
    "    return \"\"\n",
    "\n",
    "assert_equals(first_non_repeating_letter('a'), 'a')\n",
    "assert_equals(first_non_repeating_letter('stress'), 't')\n",
    "assert_equals(first_non_repeating_letter('moonmen'), 'e')\n",
    "assert_equals(first_non_repeating_letter(''), '')\n",
    "assert_equals(first_non_repeating_letter('abba'), '')\n",
    "assert_equals(first_non_repeating_letter('aa'), '')\n",
    "assert_equals(first_non_repeating_letter('~><#~><'), '#')\n",
    "assert_equals(first_non_repeating_letter('hello world, eh?'), 'w')\n",
    "assert_equals(first_non_repeating_letter('sTreSS'), 'T')\n",
    "assert_equals(first_non_repeating_letter('Go hang a salami, I\\'m a lasagna hog!'), ',')"
   ]
  },
  {
   "cell_type": "markdown",
   "metadata": {},
   "source": [
    "# String incrementer\n",
    "\n",
    "Your job is to write a function which increments a string, to create a new string.\n",
    "\n",
    "If the string already ends with a number, the number should be incremented by 1.\n",
    "\n",
    "If the string does not end with a number. the number 1 should be appended to the new string.\n",
    "Examples:\n",
    "\n",
    "foo -> foo1\n",
    "\n",
    "foobar23 -> foobar24\n",
    "\n",
    "foo0042 -> foo0043\n",
    "\n",
    "foo9 -> foo10\n",
    "\n",
    "foo099 -> foo100\n",
    "\n",
    "Attention: If the number has leading zeros the amount of digits should be considered."
   ]
  },
  {
   "cell_type": "code",
   "execution_count": 4,
   "metadata": {},
   "outputs": [],
   "source": [
    "import re\n",
    "\n",
    "def increment_string(s):\n",
    "    if s == \"\" or not s[-1].isdigit():\n",
    "        return s + \"1\"\n",
    "    \n",
    "    if s.isdigit():\n",
    "        return str(int(s) + 1).zfill(len(s))\n",
    "    else:\n",
    "        s, digits = re.split(\"(?<=\\D)(?=\\d+$)\", s)\n",
    "        new_digits = str(int(digits) + 1).zfill(len(digits))\n",
    "        return s + new_digits\n",
    "    \n",
    "def increment_string(s):\n",
    "    head = s.rstrip('0123456789')\n",
    "    tail = s[len(head):]\n",
    "    if tail == \"\":\n",
    "        return s + \"1\"\n",
    "    return head + str(int(tail) + 1).zfill(len(tail))\n",
    "\n",
    "assert_equals(increment_string(\"foo\"), \"foo1\")\n",
    "assert_equals(increment_string(\"foobar001\"), \"foobar002\")\n",
    "assert_equals(increment_string(\"foobar1\"), \"foobar2\")\n",
    "assert_equals(increment_string(\"foobar00\"), \"foobar01\")\n",
    "assert_equals(increment_string(\"foobar99\"), \"foobar100\")\n",
    "assert_equals(increment_string(\"foobar099\"), \"foobar100\")\n",
    "assert_equals(increment_string(\"fo99obar99\"), \"fo99obar100\")\n",
    "assert_equals(increment_string(\"\"), \"1\")\n",
    "assert_equals(increment_string(\"1\"), \"2\")"
   ]
  }
 ],
 "metadata": {
  "kernelspec": {
   "display_name": "Python 3",
   "language": "python",
   "name": "python3"
  },
  "language_info": {
   "codemirror_mode": {
    "name": "ipython",
    "version": 3
   },
   "file_extension": ".py",
   "mimetype": "text/x-python",
   "name": "python",
   "nbconvert_exporter": "python",
   "pygments_lexer": "ipython3",
   "version": "3.10.8"
  },
  "orig_nbformat": 4
 },
 "nbformat": 4,
 "nbformat_minor": 2
}

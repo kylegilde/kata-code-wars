{
  "cells": [
    {
      "cell_type": "markdown",
      "metadata": {
        "id": "view-in-github",
        "colab_type": "text"
      },
      "source": [
        "<a href=\"https://colab.research.google.com/github/kylegilde/kata-code-wars/blob/main/notebooks/5kyu.ipynb\" target=\"_parent\"><img src=\"https://colab.research.google.com/assets/colab-badge.svg\" alt=\"Open In Colab\"/></a>"
      ]
    },
    {
      "cell_type": "code",
      "execution_count": 9,
      "metadata": {
        "id": "Y8k42edqYG2h"
      },
      "outputs": [],
      "source": [
        "def assert_equals(solution, ans, *args):\n",
        "    assert solution == ans, f\"{solution} should equal {ans}\\n{args}\""
      ]
    },
    {
      "cell_type": "markdown",
      "source": [
        "# Primes in numbers\n",
        "\n",
        "Given a positive number n > 1 find the prime factor decomposition of n. The result will be a string with the following form :\n",
        "\n",
        " \"(p1**n1)(p2**n2)...(pk**nk)\"\n",
        "with the p(i) in increasing order and n(i) empty if n(i) is 1.\n",
        "\n",
        "Example: n = 86240 should return \"(2**5)(5)(7**2)(11)\""
      ],
      "metadata": {
        "id": "ue9GY0gkIYq8"
      }
    },
    {
      "cell_type": "code",
      "source": [
        "def test():\n",
        "    assert_equals(prime_factors(7919), \"(7919)\")\n",
        "    assert_equals(prime_factors(86240), \"(2**5)(5)(7**2)(11)\")\n",
        "    assert_equals(prime_factors(7775460), \"(2**2)(3**3)(5)(7)(11**2)(17)\")\n",
        "\n",
        "\n",
        "\n",
        "\n",
        "def formatter(k, v):\n",
        "    if v == 1:\n",
        "        return f\"({k})\"\n",
        "    else:\n",
        "        return f\"({k}**{v})\"\n",
        "\n",
        "def prime_factors(n):\n",
        "    i = 2\n",
        "    factors = []\n",
        "    while n > 1:\n",
        "        j = 0\n",
        "        while n % i == 0:\n",
        "            n /= i\n",
        "            j += 1\n",
        "        if j > 0:\n",
        "            factors.append((i, j))\n",
        "        i += 1\n",
        "\n",
        "    return \"\".join(formatter(k, v) for k, v in factors)\n",
        "\n",
        "%timeit test()\n",
        "\n",
        "def prime_factors(n):\n",
        "    i, j, p = 2, 0, []\n",
        "    while n > 1:\n",
        "        while n % i == 0:\n",
        "            n, j = n / i, j + 1\n",
        "        if j > 0:\n",
        "            p.append([i,j])\n",
        "        i, j = i + 1, 0\n",
        "    return ''.join('(%d' %q[0] + ('**%d' %q[1]) * (q[1] > 1) + ')' for q in p)\n",
        "\n",
        "%timeit test()"
      ],
      "metadata": {
        "id": "AmLpGvGCIXvS",
        "outputId": "05d90ea0-6a5c-4460-ac14-2a107cc15434",
        "colab": {
          "base_uri": "https://localhost:8080/"
        }
      },
      "execution_count": 18,
      "outputs": [
        {
          "output_type": "stream",
          "name": "stdout",
          "text": [
            "641 µs ± 7.19 µs per loop (mean ± std. dev. of 7 runs, 1000 loops each)\n",
            "781 µs ± 205 µs per loop (mean ± std. dev. of 7 runs, 1000 loops each)\n"
          ]
        }
      ]
    },
    {
      "cell_type": "markdown",
      "source": [
        "# Sum of Pairs\n",
        "\n",
        "Given a list of integers and a single sum value, return the first two values (parse from the left please) in order of appearance that add up to form the sum.\n",
        "\n",
        "If there are two or more pairs with the required sum, the pair whose second element has the smallest index is the solution.\n",
        "```\n",
        "sum_pairs([11, 3, 7, 5],         10)\n",
        "#              ^--^      3 + 7 = 10\n",
        "== [3, 7]\n",
        "\n",
        "sum_pairs([4, 3, 2, 3, 4],         6)\n",
        "#          ^-----^         4 + 2 = 6, indices: 0, 2 *\n",
        "#             ^-----^      3 + 3 = 6, indices: 1, 3\n",
        "#                ^-----^   2 + 4 = 6, indices: 2, 4\n",
        "#  * the correct answer is the pair whose second value has the smallest index\n",
        "== [4, 2]\n",
        "\n",
        "sum_pairs([0, 0, -2, 3], 2)\n",
        "#  there are no pairs of values that can be added to produce 2.\n",
        "== None/nil/undefined (Based on the language)\n",
        "\n",
        "sum_pairs([10, 5, 2, 3, 7, 5],         10)\n",
        "#              ^-----------^   5 + 5 = 10, indices: 1, 5\n",
        "#                    ^--^      3 + 7 = 10, indices: 3, 4 *\n",
        "#  * the correct answer is the pair whose second value has the smallest index\n",
        "== [3, 7]\n",
        "\n",
        "```\n",
        "Negative numbers and duplicate numbers can and will appear.\n",
        "\n",
        "NOTE: There will also be lists tested of lengths upwards of 10,000,000 elements. Be sure your code doesn't time out."
      ],
      "metadata": {
        "id": "J72qlR1thL_G"
      }
    },
    {
      "cell_type": "code",
      "source": [
        "def test():\n",
        "\n",
        "    l1 = [1, 4, 8, 7, 3, 15]\n",
        "    l2 = [1, -2, 3, 0, -6, 1]\n",
        "    l3 = [20, -13, 40]\n",
        "    l4 = [1, 2, 3, 4, 1, 0]\n",
        "    l5 = [10, 5, 2, 3, 7, 5]\n",
        "    l6 = [4, -2, 3, 3, 4]\n",
        "    l7 = [0, 2, 0]\n",
        "    l8 = [5, 9, 13, -3]\n",
        "    l9 = [1] * 10000000\n",
        "    l9[len(l9) // 2 - 1] = 6\n",
        "    l9[len(l9) // 2] = 7\n",
        "    l9[len(l9) - 2] = 8\n",
        "    l9[len(l9) - 1] = -3\n",
        "    l9[0] = 13\n",
        "    l9[1] = 3\n",
        "\n",
        "    assert_equals(sum_pairs(l1, 8), [1, 7], \"Basic: %s should return [1, 7] for sum = 8\" % l1)\n",
        "    assert_equals(sum_pairs(l2, -6), [0, -6], \"Negatives: %s should return [0, -6] for sum = -6\" % l2)\n",
        "    assert_equals(sum_pairs(l3, -7), None, \"No Match: %s should return None for sum = -7\" % l3)\n",
        "    assert_equals(sum_pairs(l4, 2), [1, 1], \"First Match From Left: %s should return [1, 1] for sum = 2 \" % l4)\n",
        "    assert_equals(sum_pairs(l5, 10), [3, 7], \"First Match From Left REDUX!: %s should return [3, 7] for sum = 10 \" % l5)\n",
        "    assert_equals(sum_pairs(l6, 8), [4, 4], \"Duplicates: %s should return [4, 4] for sum = 8\" % l6)\n",
        "    assert_equals(sum_pairs(l7, 0), [0, 0], \"Zeroes: %s should return [0, 0] for sum = 0\" % l7)\n",
        "    assert_equals(sum_pairs(l8, 10), [13, -3], \"Subtraction: %s should return [13, -3] for sum = 10\" % l8)\n",
        "    assert_equals(sum_pairs(l9, 13), [6, 7], \"Ten Million Numbers With Middle Pair: Should terminate with a valid pair output\")\n",
        "    assert_equals(sum_pairs(l9, 5), [8, -3], \"Ten Million Numbers With Pair At End: Should terminate with a valid pair output\")\n",
        "    assert_equals(sum_pairs(l9, 16), [13, 3], \"Ten Million Numbers With Pair At Start: Should terminate with a valid pair output\")\n",
        "    assert_equals(sum_pairs(l9, 31), None, \"Ten Million Numbers With No Match: Should return None in a decent time period\")\n",
        "\n",
        "\n",
        "def sum_pairs(lst, s):\n",
        "    cache = set()\n",
        "    for i in lst:\n",
        "        if s - i in cache:\n",
        "            return [s - i, i]\n",
        "        cache.add(i)\n",
        "\n",
        "%timeit test()\n",
        "\n",
        "\n",
        "def sum_pairs(ints, s):\n",
        "    pairs = []\n",
        "    ints_set = set(ints)\n",
        "    for x in ints_set:\n",
        "        for y in ints_set:\n",
        "            if x + y == s:\n",
        "                x_idx = ints.index(x)\n",
        "                try:\n",
        "                    y_idx = ints[x_idx + 1:].index(y)\n",
        "                    pairs.append((x, y, x_idx + y_idx))\n",
        "                except:\n",
        "                    pass\n",
        "\n",
        "    return list(min(pairs, key=lambda p: p[2]))[:2] if pairs else None\n",
        "\n",
        "%timeit test()\n"
      ],
      "metadata": {
        "colab": {
          "base_uri": "https://localhost:8080/"
        },
        "id": "qDlwY16ThLJB",
        "outputId": "0c48fde0-1cf2-4daa-92b8-39424a312ac3"
      },
      "execution_count": 34,
      "outputs": [
        {
          "output_type": "stream",
          "name": "stdout",
          "text": [
            "2.9 s ± 488 ms per loop (mean ± std. dev. of 7 runs, 1 loop each)\n",
            "1.35 s ± 308 ms per loop (mean ± std. dev. of 7 runs, 1 loop each)\n"
          ]
        }
      ]
    },
    {
      "cell_type": "code",
      "source": [],
      "metadata": {
        "id": "7hK8M696hgVF"
      },
      "execution_count": null,
      "outputs": []
    },
    {
      "cell_type": "markdown",
      "source": [
        "# Scramblies\n",
        "\n",
        "Complete the function scramble(str1, str2) that returns true if a portion of str1 characters can be rearranged to match str2, otherwise returns false.\n",
        "\n",
        "Notes:\n",
        "\n",
        "Only lower case letters will be used (a-z). No punctuation or digits will be included.\n",
        "\n",
        "Performance needs to be considered.\n",
        "\n",
        "Examples\n",
        "\n",
        "```\n",
        "scramble('rkqodlw', 'world') ==> True\n",
        "scramble('cedewaraaossoqqyt', 'codewars') ==> True\n",
        "scramble('katas', 'steak') ==> False\n",
        "```"
      ],
      "metadata": {
        "id": "cfUpgwXi_zt5"
      }
    },
    {
      "cell_type": "code",
      "source": [
        "Counter(\"abc\") - Counter(\"ab\")"
      ],
      "metadata": {
        "colab": {
          "base_uri": "https://localhost:8080/"
        },
        "id": "U_oV8b2dFTN8",
        "outputId": "36a535c6-3fa2-4709-d81a-12764ed595dd"
      },
      "execution_count": 23,
      "outputs": [
        {
          "output_type": "execute_result",
          "data": {
            "text/plain": [
              "Counter({'c': 1})"
            ]
          },
          "metadata": {},
          "execution_count": 23
        }
      ]
    },
    {
      "cell_type": "code",
      "source": [
        "def dotest(s1, s2, expected):\n",
        "    actual = scramble(s1, s2)\n",
        "    assert_equals(actual, expected, f\"{s1} > {s2}\")\n",
        "\n",
        "def test_case():\n",
        "    for s1, s2, expected in [\n",
        "        ('rkqodlw', 'world', True),\n",
        "        ('cedewaraaossoqqyt', 'codewars', True),\n",
        "        ('katas', 'steak', False),\n",
        "        ('scriptjava', 'javascript', True),\n",
        "        ('scriptingjava', 'javascript', True)\n",
        "    ]:\n",
        "        dotest(s1, s2, expected)\n",
        "\n",
        "def large_test():\n",
        "    s1 = \"abcdefghijklmnopqrstuvwxyz\" * 10_000\n",
        "    s2 = \"zyxcba\" * 9_000\n",
        "    dotest(s1, s2, True)\n",
        "\n",
        "\n",
        "from collections import Counter\n",
        "def scramble(s, word):\n",
        "    # 20.9 ms ± 879 µs per loop (mean ± std. dev. of 7 runs, 10 loops each)\n",
        "    s, word = Counter(s), Counter(word)\n",
        "\n",
        "    for k, v in word.items():\n",
        "        if v > s.get(k, 0):\n",
        "            return False\n",
        "    return True\n",
        "\n",
        "test_case()\n",
        "%timeit large_test()\n",
        "\n",
        "from collections import Counter\n",
        "def scramble(s1,s2):\n",
        "    # Counter basically creates a dictionary of counts and letters\n",
        "    # Using set subtraction, we know that if anything is left over,\n",
        "    # something exists in s2 that doesn't exist in s1\n",
        "    return len(Counter(s2)- Counter(s1)) == 0\n",
        "\n",
        "test_case()\n",
        "%timeit large_test()\n",
        "\n",
        "\n",
        "def scramble(s1, s2):\n",
        "    # Worst case, O(m*n+n^2) where m is len(s1) and n is len(s2).\n",
        "    for c in set(s2):\n",
        "        if s1.count(c) < s2.count(c):\n",
        "            return False\n",
        "    return True\n",
        "\n",
        "test_case()\n",
        "%timeit large_test()\n",
        "\n",
        "\n",
        "def scramble(s1, s2):\n",
        "    return all(s1.count(x) >= s2.count(x) for x in set(s2))\n",
        "\n",
        "test_case()\n",
        "%timeit large_test()"
      ],
      "metadata": {
        "colab": {
          "base_uri": "https://localhost:8080/"
        },
        "id": "EN4SUwUh_yd-",
        "outputId": "d311cb09-d93c-4c66-add2-2acb3ba59d45"
      },
      "execution_count": 34,
      "outputs": [
        {
          "output_type": "stream",
          "name": "stdout",
          "text": [
            "22.1 ms ± 5.17 ms per loop (mean ± std. dev. of 7 runs, 100 loops each)\n",
            "36.1 ms ± 4.76 ms per loop (mean ± std. dev. of 7 runs, 10 loops each)\n",
            "1.64 ms ± 333 µs per loop (mean ± std. dev. of 7 runs, 1000 loops each)\n",
            "1.63 ms ± 297 µs per loop (mean ± std. dev. of 7 runs, 1000 loops each)\n",
            "1.65 ms ± 319 µs per loop (mean ± std. dev. of 7 runs, 1000 loops each)\n"
          ]
        }
      ]
    },
    {
      "cell_type": "markdown",
      "source": [
        "# Product of consecutive Fib numbers\n",
        "\n",
        "The Fibonacci numbers are the numbers in the following integer sequence (Fn):\n",
        "\n",
        "0, 1, 1, 2, 3, 5, 8, 13, 21, 34, 55, 89, 144, 233, ...\n",
        "\n",
        "such as\n",
        "\n",
        "F(n) = F(n-1) + F(n-2) with F(0) = 0 and F(1) = 1.\n",
        "\n",
        "Given a number, say prod (for product), we search two Fibonacci numbers F(n) and F(n+1) verifying\n",
        "\n",
        "F(n) * F(n+1) = prod.\n",
        "\n",
        "Your function productFib takes an integer (prod) and returns an array:\n",
        "\n",
        "[F(n), F(n+1), true] or {F(n), F(n+1), 1} or (F(n), F(n+1), True)\n",
        "depending on the language if F(n) * F(n+1) = prod.\n",
        "\n",
        "If you don't find two consecutive F(n) verifying F(n) * F(n+1) = prodyou will return\n",
        "\n",
        "[F(n), F(n+1), false] or {F(n), F(n+1), 0} or (F(n), F(n+1), False)\n",
        "\n",
        "F(n) being the smallest one such as F(n) * F(n+1) > prod.\n",
        "\n",
        "Some Examples of Return:\n",
        "```\n",
        "productFib(714) # should return (21, 34, true),\n",
        "                # since F(8) = 21, F(9) = 34 and 714 = 21 * 34\n",
        "\n",
        "productFib(800) # should return (34, 55, false),\n",
        "                # since F(8) = 21, F(9) = 34, F(10) = 55 and 21 * 34 < 800 < 34 * 55\n",
        "-----\n",
        "productFib(714) # should return [21, 34, true],\n",
        "productFib(800) # should return [34, 55, false],\n",
        "-----\n",
        "productFib(714) # should return {21, 34, 1},\n",
        "productFib(800) # should return {34, 55, 0},        \n",
        "-----\n",
        "productFib(714) # should return {21, 34, true},\n",
        "productFib(800) # should return {34, 55, false},\n",
        "\n",
        "```\n",
        "\n"
      ],
      "metadata": {
        "id": "VRfrdnEy9bLB"
      }
    },
    {
      "cell_type": "code",
      "source": [
        "def productFib(target):\n",
        "    a, b, prd = 0, 1, 0\n",
        "\n",
        "    while prd < target:\n",
        "      a, b = b, a + b\n",
        "      prd = a * b\n",
        "\n",
        "    return [a, b, target == prd]\n",
        "\n",
        "assert_equals(productFib(714), [21, 34, True])\n",
        "assert_equals(productFib(4895), [55, 89, True])\n",
        "assert_equals(productFib(5895), [89, 144, False])"
      ],
      "metadata": {
        "colab": {
          "base_uri": "https://localhost:8080/"
        },
        "id": "F3ThQ9t19b80",
        "outputId": "42495d0a-1284-4b34-87b8-66e93b718160"
      },
      "execution_count": 5,
      "outputs": [
        {
          "output_type": "stream",
          "name": "stdout",
          "text": [
            "1\n",
            "2\n",
            "6\n",
            "15\n",
            "40\n",
            "104\n",
            "273\n",
            "714\n",
            "1\n",
            "2\n",
            "6\n",
            "15\n",
            "40\n",
            "104\n",
            "273\n",
            "714\n",
            "1870\n",
            "4895\n",
            "1\n",
            "2\n",
            "6\n",
            "15\n",
            "40\n",
            "104\n",
            "273\n",
            "714\n",
            "1870\n",
            "4895\n",
            "12816\n"
          ]
        }
      ]
    },
    {
      "cell_type": "markdown",
      "source": [
        "# Rot13\n",
        "\n",
        "ROT13 is a simple letter substitution cipher that replaces a letter with the letter 13 letters after it in the alphabet. ROT13 is an example of the Caesar cipher.\n",
        "\n",
        "Create a function that takes a string and returns the string ciphered with Rot13. If there are numbers or special characters included in the string, they should be returned as they are. Only letters from the latin/english alphabet should be shifted, like in the original Rot13 \"implementation\".\n",
        "\n",
        "Please note that using encode is considered cheating."
      ],
      "metadata": {
        "id": "TG0GqlLhc_2k"
      }
    },
    {
      "cell_type": "code",
      "source": [
        "def do_tests():\n",
        "    assert_equals(rot13('test'), 'grfg', 'Returned solution incorrect for fixed string = test')\n",
        "    assert_equals(rot13('Test'), 'Grfg', 'Returned solution incorrect for fixed string = Test')\n",
        "    assert_equals(rot13('aA bB zZ 1234 *!?%'), 'nN oO mM 1234 *!?%', 'Returned solution incorrect for fixed string = aA bB zZ 1234 *!?%')\n",
        "\n",
        "\n",
        "\n",
        "from string import ascii_lowercase, ascii_uppercase\n",
        "\n",
        "def rot13(message, n=13):\n",
        "    mapping = str.maketrans(\n",
        "      ascii_lowercase + ascii_uppercase,\n",
        "      ascii_lowercase[n:] + ascii_lowercase[:n] + ascii_uppercase[n:] + ascii_uppercase[:n]\n",
        "    )\n",
        "    return message.translate(mapping)\n",
        "\n",
        "%timeit do_tests()\n",
        "\n",
        "\n",
        "def rot13(message):\n",
        "    result = ''\n",
        "    for char in message:\n",
        "        if char.isalpha():\n",
        "            starting_ord = ord(\"A\") if char.isupper() else ord(\"a\")\n",
        "            result += chr((((ord(char) - starting_ord) + 13) % 26) + starting_ord)\n",
        "        else:\n",
        "            result += char\n",
        "    return result\n",
        "\n",
        "%timeit do_tests()\n",
        "\n",
        "def rot13(message):\n",
        "    a = \"abcdefghijklmnopqrstuvwxyzabcdefghijklmnopqrstuvwxyzABCDEFGHIJKLMNOPQRSTUVWXYZABCDEFGHIJKLMNOPQRSTUVWXYZ\"\n",
        "    return ''.join(a[a.index(i)+13] if i in a else i for i in message)\n",
        "\n",
        "%timeit do_tests()"
      ],
      "metadata": {
        "id": "Vqzl2eoPYwF4",
        "colab": {
          "base_uri": "https://localhost:8080/"
        },
        "outputId": "26d99386-0086-4663-e099-d3c2de0ea319"
      },
      "execution_count": 30,
      "outputs": [
        {
          "output_type": "stream",
          "name": "stdout",
          "text": [
            "18.4 µs ± 6.17 µs per loop (mean ± std. dev. of 7 runs, 10000 loops each)\n",
            "7.32 µs ± 141 ns per loop (mean ± std. dev. of 7 runs, 100000 loops each)\n",
            "9.56 µs ± 3.04 µs per loop (mean ± std. dev. of 7 runs, 100000 loops each)\n"
          ]
        }
      ]
    },
    {
      "cell_type": "markdown",
      "metadata": {
        "id": "vDwiPF0IYG2j"
      },
      "source": [
        "# Not very secure\n",
        "\n",
        "In this example you have to validate if a user input string is alphanumeric. The given string is not nil/null/NULL/None, so you don't have to check that.\n",
        "\n",
        "The string has the following conditions to be alphanumeric:\n",
        "\n",
        "At least one character (\"\" is not valid)\n",
        "Allowed characters are uppercase / lowercase latin letters and digits from 0 to 9\n",
        "No whitespaces / underscore"
      ]
    },
    {
      "cell_type": "code",
      "execution_count": null,
      "metadata": {
        "id": "LWazilxkYG2k"
      },
      "outputs": [],
      "source": [
        "import re\n",
        "\n",
        "def alphanumeric(password):\n",
        "    return bool(re.search(r\"^[a-zA-Z0-9]+$\", password))\n",
        "\n",
        "def alphanumeric(s):\n",
        "    return s.isalnum()\n",
        "\n",
        "tests = [\n",
        "        (\"hello world_\", False),\n",
        "        (\"PassW0rd\", True),\n",
        "        (\"     \", False)\n",
        "    ]\n",
        "\n",
        "for s, b in tests:\n",
        "    assert_equals(alphanumeric(s), b)"
      ]
    },
    {
      "cell_type": "markdown",
      "metadata": {
        "id": "mBOgzfB9YG2l"
      },
      "source": [
        "# Extract the domain name from a URL\n",
        "\n",
        "Write a function that when given a URL as a string, parses out just the domain name and returns it as a string. For example:\n",
        "\n",
        "* url = \"http://github.com/carbonfive/raygun\" -> domain name = \"github\"\n",
        "\n",
        "* url = \"http://www.zombie-bites.com\"         -> domain name = \"zombie-bites\"\n",
        "\n",
        "* url = \"https://www.cnet.com\"                -> domain name = cnet\""
      ]
    },
    {
      "cell_type": "code",
      "execution_count": 31,
      "metadata": {
        "id": "-PMR1dmEYG2l",
        "colab": {
          "base_uri": "https://localhost:8080/"
        },
        "outputId": "139f5538-2f49-422e-e611-b96f137fe836"
      },
      "outputs": [
        {
          "output_type": "stream",
          "name": "stdout",
          "text": [
            "19.6 µs ± 4.46 µs per loop (mean ± std. dev. of 7 runs, 100000 loops each)\n",
            "4.15 µs ± 67.7 ns per loop (mean ± std. dev. of 7 runs, 100000 loops each)\n",
            "9.75 µs ± 3.12 µs per loop (mean ± std. dev. of 7 runs, 100000 loops each)\n"
          ]
        }
      ],
      "source": [
        "def do_tests():\n",
        "    assert_equals(domain_name(\"https://123.net\"), \"123\")\n",
        "    assert_equals(domain_name(\"https://hyphen-site.org\"), \"hyphen-site\")\n",
        "    assert_equals(domain_name(\"scmztno.pro/error\"), \"scmztno\")\n",
        "    assert_equals(domain_name(\"http://google.co.jp\"), \"google\")\n",
        "    assert_equals(domain_name(\"https://youtube.com\"), \"youtube\")\n",
        "    assert_equals(domain_name(\"www.xakep.ru\"), \"xakep\")\n",
        "\n",
        "\n",
        "import re\n",
        "\n",
        "def domain_name(url):\n",
        "    url = re.sub(\"^(https?://)?(www\\.)?\", \"\", url)\n",
        "    return re.search(\"[a-zA-Z0-9\\-]+?(?=\\.)\", url).group(0)\n",
        "\n",
        "%timeit do_tests()\n",
        "\n",
        "def domain_name(url):\n",
        "    return url.split(\"//\")[-1].split(\"www.\")[-1].split(\".\")[0]\n",
        "\n",
        "%timeit do_tests()\n",
        "\n",
        "def domain_name(url):\n",
        "    return re.search('(https?://)?(www\\d?\\.)?(?P<name>[\\w-]+)\\.', url).group('name')\n",
        "\n",
        "%timeit do_tests()"
      ]
    },
    {
      "cell_type": "markdown",
      "metadata": {
        "id": "XHsGcqgZYG2m"
      },
      "source": [
        "# Perimeter of squares in a rectangle\n",
        "\n",
        "\n",
        "The drawing shows 6 squares the sides of which have a length of 1, 1, 2, 3, 5, 8. It's easy to see that the sum of the perimeters of these squares is : 4 * (1 + 1 + 2 + 3 + 5 + 8) = 4 * 20 = 80\n",
        "\n",
        "Could you give the sum of the perimeters of all the squares in a rectangle when there are n + 1 squares disposed in the same manner as in the drawing:\n",
        "\n",
        "Hint:\n",
        "See Fibonacci sequence\n",
        "\n",
        "Ref:\n",
        "http://oeis.org/A000045\n",
        "\n",
        "The function perimeter has for parameter n where n + 1 is the number of squares (they are numbered from 0 to n) and returns the total perimeter of all the squares.\n",
        "\n",
        "perimeter(5)  should return 80\n",
        "\n",
        "perimeter(7)  should return 216"
      ]
    },
    {
      "cell_type": "code",
      "execution_count": 32,
      "metadata": {
        "id": "bmK9JVj-YG2m",
        "outputId": "41654d20-4e8b-41c9-9958-5385bc736f62",
        "colab": {
          "base_uri": "https://localhost:8080/"
        }
      },
      "outputs": [
        {
          "output_type": "stream",
          "name": "stdout",
          "text": [
            "139 µs ± 46.1 µs per loop (mean ± std. dev. of 7 runs, 10000 loops each)\n",
            "68.7 µs ± 8.54 µs per loop (mean ± std. dev. of 7 runs, 10000 loops each)\n"
          ]
        }
      ],
      "source": [
        "def do_tests():\n",
        "    assert_equals(perimeter(5), 80)\n",
        "    assert_equals(perimeter(7), 216)\n",
        "    assert_equals(perimeter(20), 114624)\n",
        "    assert_equals(perimeter(30), 14098308)\n",
        "    assert_equals(perimeter(100), 6002082144827584333104)\n",
        "    assert_equals(perimeter(500), 2362425027542282167538999091770205712168371625660854753765546783141099308400948230006358531927265833165504)\n",
        "\n",
        "def fib(n):\n",
        "    a, b = 0, 1\n",
        "\n",
        "    for i in range(n+1):\n",
        "        if i == 0:\n",
        "            yield b\n",
        "        else:\n",
        "            a, b = b, a + b\n",
        "            yield b\n",
        "\n",
        "def perimeter(n):\n",
        "    return sum(fib(n)) * 4\n",
        "\n",
        "\n",
        "%timeit do_tests()\n",
        "\n",
        "\n",
        "def perimeter(n):\n",
        "    # ??????????????????????\n",
        "    a, b = 1, 2\n",
        "    while n:\n",
        "        a, b, n = b, a + b, n - 1\n",
        "    return 4 * (b - 1)\n",
        "\n",
        "\n",
        "%timeit do_tests()"
      ]
    },
    {
      "cell_type": "markdown",
      "metadata": {
        "id": "87OWd1sMYG2o"
      },
      "source": [
        "# Maximum subarray sum\n",
        "\n",
        "\n",
        "The maximum sum subarray problem consists in finding the maximum sum of a contiguous subsequence in an array or list of integers:\n",
        "\n",
        "max_sequence([-2, 1, -3, 4, -1, 2, 1, -5, 4])\n",
        "\n",
        "should be 6: [4, -1, 2, 1]\n",
        "\n",
        "Easy case is when the list is made up of only positive numbers and the maximum sum is the sum of the whole array. If the list is made up of only negative numbers, return 0 instead.\n",
        "\n",
        "Empty list is considered to have zero greatest sum. Note that the empty list or array is also a valid sublist/subarray.\n",
        "\n"
      ]
    },
    {
      "cell_type": "code",
      "execution_count": null,
      "metadata": {
        "id": "GLNvK-_5YG2p"
      },
      "outputs": [],
      "source": [
        "def max_sequence(arr):\n",
        "    max_sum, current_sum = 0, 0\n",
        "    for x in arr:\n",
        "        current_sum += x\n",
        "        if current_sum < 0:\n",
        "            current_sum = 0\n",
        "        if current_sum > max_sum:\n",
        "            max_sum = current_sum\n",
        "    return max_sum\n",
        "\n",
        "assert_equals(max_sequence([7, 4, 11, -11, 39, 36, 10, -6, 37, -10, -32, 44, -26, -34, 43, 43]), 155)\n",
        "assert_equals(max_sequence([3, -1, 6]), 8)\n",
        "assert_equals(max_sequence([]), 0)\n",
        "assert_equals(max_sequence([-2, -3]), 0)\n",
        "assert_equals(max_sequence([-2, 1, -3, 4, -1, 2, 1, -5, 4]), 6)"
      ]
    },
    {
      "cell_type": "markdown",
      "metadata": {
        "id": "YxFK1z4IYG2p"
      },
      "source": [
        "# First non-repeating character\n",
        "\n",
        "Write a function named first_non_repeating_letter that takes a string input, and returns the first character that is not repeated anywhere in the string.\n",
        "\n",
        "For example, if given the input 'stress', the function should return 't', since the letter t only occurs once in the string, and occurs first in the string.\n",
        "\n",
        "As an added challenge, upper- and lowercase letters are considered the same character, but the function should return the correct case for the initial letter. For example, the input 'sTreSS' should return 'T'.\n",
        "\n",
        "If a string contains all repeating characters, it should return an empty string (\"\") or None -- see sample tests."
      ]
    },
    {
      "cell_type": "code",
      "execution_count": null,
      "metadata": {
        "id": "zXdypMh0YG2p"
      },
      "outputs": [],
      "source": [
        "def first_non_repeating_letter(s):\n",
        "\n",
        "    string_lower = s.lower()\n",
        "    for i, letter in enumerate(string_lower):\n",
        "        if string_lower.count(letter) == 1:\n",
        "            return s[i]\n",
        "\n",
        "    return \"\"\n",
        "\n",
        "assert_equals(first_non_repeating_letter('a'), 'a')\n",
        "assert_equals(first_non_repeating_letter('stress'), 't')\n",
        "assert_equals(first_non_repeating_letter('moonmen'), 'e')\n",
        "assert_equals(first_non_repeating_letter(''), '')\n",
        "assert_equals(first_non_repeating_letter('abba'), '')\n",
        "assert_equals(first_non_repeating_letter('aa'), '')\n",
        "assert_equals(first_non_repeating_letter('~><#~><'), '#')\n",
        "assert_equals(first_non_repeating_letter('hello world, eh?'), 'w')\n",
        "assert_equals(first_non_repeating_letter('sTreSS'), 'T')\n",
        "assert_equals(first_non_repeating_letter('Go hang a salami, I\\'m a lasagna hog!'), ',')"
      ]
    },
    {
      "cell_type": "markdown",
      "metadata": {
        "id": "z807564IYG2q"
      },
      "source": [
        "# String incrementer\n",
        "\n",
        "Your job is to write a function which increments a string, to create a new string.\n",
        "\n",
        "If the string already ends with a number, the number should be incremented by 1.\n",
        "\n",
        "If the string does not end with a number. the number 1 should be appended to the new string.\n",
        "Examples:\n",
        "\n",
        "foo -> foo1\n",
        "\n",
        "foobar23 -> foobar24\n",
        "\n",
        "foo0042 -> foo0043\n",
        "\n",
        "foo9 -> foo10\n",
        "\n",
        "foo099 -> foo100\n",
        "\n",
        "Attention: If the number has leading zeros the amount of digits should be considered."
      ]
    },
    {
      "cell_type": "code",
      "execution_count": null,
      "metadata": {
        "id": "23bUF9yhYG2q"
      },
      "outputs": [],
      "source": [
        "import re\n",
        "\n",
        "def increment_string(s):\n",
        "    if s == \"\" or not s[-1].isdigit():\n",
        "        return s + \"1\"\n",
        "\n",
        "    if s.isdigit():\n",
        "        return str(int(s) + 1).zfill(len(s))\n",
        "    else:\n",
        "        s, digits = re.split(\"(?<=\\D)(?=\\d+$)\", s)\n",
        "        new_digits = str(int(digits) + 1).zfill(len(digits))\n",
        "        return s + new_digits\n",
        "\n",
        "def increment_string(s):\n",
        "    head = s.rstrip('0123456789')\n",
        "    tail = s[len(head):]\n",
        "    if tail == \"\":\n",
        "        return s + \"1\"\n",
        "    return head + str(int(tail) + 1).zfill(len(tail))\n",
        "\n",
        "assert_equals(increment_string(\"foo\"), \"foo1\")\n",
        "assert_equals(increment_string(\"foobar001\"), \"foobar002\")\n",
        "assert_equals(increment_string(\"foobar1\"), \"foobar2\")\n",
        "assert_equals(increment_string(\"foobar00\"), \"foobar01\")\n",
        "assert_equals(increment_string(\"foobar99\"), \"foobar100\")\n",
        "assert_equals(increment_string(\"foobar099\"), \"foobar100\")\n",
        "assert_equals(increment_string(\"fo99obar99\"), \"fo99obar100\")\n",
        "assert_equals(increment_string(\"\"), \"1\")\n",
        "assert_equals(increment_string(\"1\"), \"2\")"
      ]
    }
  ],
  "metadata": {
    "kernelspec": {
      "display_name": "Python 3",
      "language": "python",
      "name": "python3"
    },
    "language_info": {
      "codemirror_mode": {
        "name": "ipython",
        "version": 3
      },
      "file_extension": ".py",
      "mimetype": "text/x-python",
      "name": "python",
      "nbconvert_exporter": "python",
      "pygments_lexer": "ipython3",
      "version": "3.10.8"
    },
    "orig_nbformat": 4,
    "colab": {
      "provenance": [],
      "include_colab_link": true
    }
  },
  "nbformat": 4,
  "nbformat_minor": 0
}
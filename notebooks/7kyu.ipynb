{
  "cells": [
    {
      "cell_type": "markdown",
      "metadata": {
        "id": "view-in-github",
        "colab_type": "text"
      },
      "source": [
        "<a href=\"https://colab.research.google.com/github/kylegilde/kata-code-wars/blob/main/notebooks/7kyu.ipynb\" target=\"_parent\"><img src=\"https://colab.research.google.com/assets/colab-badge.svg\" alt=\"Open In Colab\"/></a>"
      ]
    },
    {
      "cell_type": "markdown",
      "source": [
        "# Kyle's 7 Kyu Notebook"
      ],
      "metadata": {
        "id": "Ld5Zb7yUyndN"
      }
    },
    {
      "cell_type": "code",
      "execution_count": 2,
      "metadata": {
        "id": "M2Y-489Byasw"
      },
      "outputs": [],
      "source": [
        "def assert_equals(solution, ans, *args):\n",
        "    assert solution == ans, f\"{solution} should equal {ans}\""
      ]
    },
    {
      "cell_type": "markdown",
      "metadata": {
        "id": "r4Wzv69Lyasz"
      },
      "source": [
        "# Complete Fibonacci Series\n",
        "\n",
        "\n",
        "The function 'fibonacci' should return an array of fibonacci numbers. The function takes a number as an argument to decide how many no. of elements to produce. If the argument is less than or equal to 0 then return empty array\n",
        "\n",
        "Example:\n",
        "\n",
        "fibonacci(4) # should return  [0,1,1,2]\n",
        "\n",
        "fibonacci(-1) # should return []"
      ]
    },
    {
      "cell_type": "code",
      "execution_count": 4,
      "metadata": {
        "id": "8_pwhxlJyas1"
      },
      "outputs": [],
      "source": [
        "def fibonacci(n):\n",
        "    seq = [0, 1]\n",
        "\n",
        "    if n <= 0:\n",
        "        return []\n",
        "    elif n in {1, 2}:\n",
        "        return seq[:n]\n",
        "\n",
        "    for _ in range(2, n):\n",
        "        seq.append(seq[-2] + seq[-1])\n",
        "\n",
        "    return seq\n",
        "\n",
        "\n",
        "\n",
        "def fibonacci(n):\n",
        "    fib = [0, 1]\n",
        "    for _ in range(n - len(fib)):\n",
        "        fib.append(fib[-1] + fib[-2])\n",
        "    return fib[:max(0, n)]\n",
        "\n",
        "\n",
        "assert_equals(fibonacci(4), [0, 1, 1, 2], 'Should work for 4.')\n",
        "assert_equals(fibonacci(1), [0], 'Should work for 1 element.')\n",
        "assert_equals(fibonacci(0), [], 'Should have 0 elements for 0.')\n",
        "assert_equals(fibonacci(-1), [], 'Should have 0 elements for negative input.')\n",
        "assert_equals(fibonacci(-14), [], 'Should have 0 elements for negative input.')\n",
        "assert_equals(fibonacci(10), [0, 1, 1, 2, 3, 5, 8, 13, 21, 34], 'Should work for 10.')"
      ]
    },
    {
      "cell_type": "markdown",
      "metadata": {
        "id": "tGWE-ddtyas2"
      },
      "source": [
        "# Fibonacci\n",
        "\n",
        "Create function fib that returns n'th element of Fibonacci sequence"
      ]
    },
    {
      "cell_type": "code",
      "execution_count": 7,
      "metadata": {
        "colab": {
          "base_uri": "https://localhost:8080/"
        },
        "id": "OhQAXwzByas2",
        "outputId": "1cfae821-21a5-4c45-96b5-c7383e7588ce"
      },
      "outputs": [
        {
          "output_type": "stream",
          "name": "stdout",
          "text": [
            "26.9 µs ± 618 ns per loop (mean ± std. dev. of 7 runs, 10000 loops each)\n"
          ]
        }
      ],
      "source": [
        "%%timeit\n",
        "\n",
        "def fibonacci(n: int) -> int:\n",
        "    \"\"\"Given a positive argument n, returns the nth term of the Fibonacci Sequence.\n",
        "    \"\"\"\n",
        "    a, b = 0, 1\n",
        "    if n in {0, 1}:\n",
        "        return (a, b)[n]\n",
        "\n",
        "    for _ in range(2, n + 1):\n",
        "        a, b = b, a + b\n",
        "\n",
        "    return b\n",
        "\n",
        "assert_equals(fibonacci(0), 0)\n",
        "assert_equals(fibonacci(1), 1)\n",
        "assert_equals(fibonacci(2), 1)\n",
        "assert_equals(fibonacci(3), 2)\n",
        "assert_equals(fibonacci(4), 3)\n",
        "assert_equals(fibonacci(5), 5)\n",
        "assert_equals(fibonacci(6), 8)\n",
        "assert_equals(fibonacci(34), 5702887)\n",
        "assert_equals(fibonacci(299), 137347080577163115432025771710279131845700275212767467264610201)"
      ]
    },
    {
      "cell_type": "code",
      "execution_count": 8,
      "metadata": {
        "colab": {
          "base_uri": "https://localhost:8080/"
        },
        "id": "sTtolVDAyas3",
        "outputId": "8636e465-b376-4166-abac-a9e3301af279"
      },
      "outputs": [
        {
          "output_type": "stream",
          "name": "stdout",
          "text": [
            "39.1 µs ± 12.7 µs per loop (mean ± std. dev. of 7 runs, 10000 loops each)\n"
          ]
        }
      ],
      "source": [
        "%%timeit\n",
        "def fibonacci(n: int) -> int:\n",
        "    a, b = 0, 1\n",
        "    for _ in range(0, n):\n",
        "        a, b = b, a + b\n",
        "    return a\n",
        "\n",
        "assert_equals(fibonacci(0), 0)\n",
        "assert_equals(fibonacci(1), 1)\n",
        "assert_equals(fibonacci(2), 1)\n",
        "assert_equals(fibonacci(3), 2)\n",
        "assert_equals(fibonacci(4), 3)\n",
        "assert_equals(fibonacci(5), 5)\n",
        "assert_equals(fibonacci(6), 8)\n",
        "assert_equals(fibonacci(34), 5702887)\n",
        "assert_equals(fibonacci(299), 137347080577163115432025771710279131845700275212767467264610201)"
      ]
    },
    {
      "cell_type": "markdown",
      "metadata": {
        "id": "4WeIr6wcyas4"
      },
      "source": [
        "# Moves in squared strings (I)\n",
        "\n",
        "This kata is the first of a sequence of four about \"Squared Strings\".\n",
        "\n",
        "You are given a string of n lines, each substring being n characters long: For example:\n",
        "\n",
        "s = \"abcd\\nefgh\\nijkl\\nmnop\"\n",
        "\n",
        "We will study some transformations of this square of strings.\n",
        "\n",
        "Vertical mirror: vert_mirror (or vertMirror or vert-mirror)\n",
        "vert_mirror(s) => \"dcba\\nhgfe\\nlkji\\nponm\"\n",
        "\n",
        "Horizontal mirror: hor_mirror (or horMirror or hor-mirror)\n",
        " hor_mirror(s) => \"mnop\\nijkl\\nefgh\\nabcd\"\n",
        "or printed:\n",
        "```\n",
        "vertical mirror   |horizontal mirror   \n",
        "abcd --> dcba     |abcd --> mnop\n",
        "efgh     hgfe     |efgh     ijkl\n",
        "ijkl     lkji     |ijkl     efgh\n",
        "mnop     ponm     |mnop     abcd\n",
        "```\n",
        "\n",
        "Task:\n",
        "Write these two functions\n",
        "and\n",
        "\n",
        "high-order function oper(fct, s) where\n",
        "\n",
        "fct is the function of one variable f to apply to the string s (fct will be one of vertMirror, horMirror)\n",
        "\n",
        "Examples:\n",
        "```\n",
        "s = \"abcd\\nefgh\\nijkl\\nmnop\"\n",
        "oper(vert_mirror, s) => \"dcba\\nhgfe\\nlkji\\nponm\"\n",
        "oper(hor_mirror, s) => \"mnop\\nijkl\\nefgh\\nabcd\"\n",
        "```\n",
        "\n",
        "\n",
        "Note:\n",
        "The form of the parameter fct in oper changes according to the language. You can see each form according to the language in \"Sample Tests\".\n"
      ]
    },
    {
      "cell_type": "code",
      "execution_count": null,
      "metadata": {
        "id": "HRVdKfKdyas4"
      },
      "outputs": [],
      "source": [
        "def vert_mirror(strng):\n",
        "    return \"\\n\".join(s[::-1] for s in strng.split(\"\\n\"))\n",
        "def hor_mirror(strng):\n",
        "    return \"\\n\".join(reversed(strng.split(\"\\n\")))\n",
        "def oper(fct, s):\n",
        "    return fct(s)"
      ]
    },
    {
      "cell_type": "code",
      "execution_count": null,
      "metadata": {
        "id": "k1H3nnf_yas5"
      },
      "outputs": [],
      "source": [
        "\n",
        "assert_equals(oper(vert_mirror, \"hSgdHQ\\nHnDMao\\nClNNxX\\niRvxxH\\nbqTVvA\\nwvSyRu\"), \"QHdgSh\\noaMDnH\\nXxNNlC\\nHxxvRi\\nAvVTqb\\nuRySvw\")\n",
        "assert_equals(oper(vert_mirror, \"IzOTWE\\nkkbeCM\\nWuzZxM\\nvDddJw\\njiJyHF\\nPVHfSx\"), \"EWTOzI\\nMCebkk\\nMxZzuW\\nwJddDv\\nFHyJij\\nxSfHVP\")\n",
        "assert_equals(oper(hor_mirror, \"lVHt\\nJVhv\\nCSbg\\nyeCt\"), \"yeCt\\nCSbg\\nJVhv\\nlVHt\")\n",
        "assert_equals(oper(hor_mirror, \"njMK\\ndbrZ\\nLPKo\\ncEYz\"), \"cEYz\\nLPKo\\ndbrZ\\nnjMK\")"
      ]
    },
    {
      "cell_type": "markdown",
      "metadata": {
        "id": "_83V7zfmyas5"
      },
      "source": [
        "# Switcheroo\n",
        "\n",
        "Given a string made up of letters a, b, and/or c, switch the position of letters a and b (change a to b and vice versa). Leave any incidence of c untouched.\n",
        "\n",
        "Example:\n",
        "\n",
        "'acb' --> 'bca'\n",
        "'aabacbaa' --> 'bbabcabb'"
      ]
    },
    {
      "cell_type": "code",
      "execution_count": null,
      "metadata": {
        "id": "h-pNBwxayas6",
        "outputId": "5aae2a2e-f7ea-41fa-ded8-4c5534307e91"
      },
      "outputs": [
        {
          "data": {
            "text/plain": [
              "'bac'"
            ]
          },
          "execution_count": 10,
          "metadata": {},
          "output_type": "execute_result"
        }
      ],
      "source": [
        "def switcheroo(s):\n",
        "    mapping = str.maketrans(\"ab\", \"ba\")\n",
        "    return s.translate(mapping)"
      ]
    },
    {
      "cell_type": "code",
      "execution_count": null,
      "metadata": {
        "id": "24agy0blyas6"
      },
      "outputs": [],
      "source": [
        "\n",
        "assert_equals(switcheroo(\"abc\"), \"bac\")\n",
        "assert_equals(switcheroo('aaabcccbaaa'), 'bbbacccabbb')\n",
        "assert_equals(switcheroo('ccccc'), 'ccccc')\n",
        "assert_equals(switcheroo('abababababababab'), 'babababababababa')\n",
        "assert_equals(switcheroo('aaaaa'), 'bbbbb')"
      ]
    },
    {
      "cell_type": "markdown",
      "metadata": {
        "id": "vQOQebo2yas6"
      },
      "source": [
        "# Alphabet symmetry\n",
        "\n",
        "Consider the word \"abode\". We can see that the letter a is in position 1 and b is in position 2. In the alphabet, a and b are also in positions 1 and 2. Notice also that d and e in abode occupy the positions they would occupy in the alphabet, which are positions 4 and 5.\n",
        "\n",
        "Given an array of words, return an array of the number of letters that occupy their positions in the alphabet for each word. For example,\n",
        "\n",
        "solve([\"abode\",\"ABc\",\"xyzD\"]) = [4, 3, 1]\n",
        "See test cases for more examples.\n",
        "\n",
        "Input will consist of alphabet characters, both uppercase and lowercase. No spaces.\n",
        "\n",
        "Good luck!"
      ]
    },
    {
      "cell_type": "code",
      "execution_count": null,
      "metadata": {
        "id": "pADXBIE3yas6"
      },
      "outputs": [],
      "source": [
        "from string import ascii_lowercase\n",
        "\n",
        "def indices_match(s):\n",
        "    return sum(i == ascii_lowercase.index(v) for i, v in enumerate(s.lower()))\n",
        "\n",
        "def solve(arr):\n",
        "    return [indices_match(word) for word in arr]\n",
        "\n",
        "def solve(words):\n",
        "  return [sum(a == b for a, b in zip(w.lower(), ascii_lowercase)) for w in words]\n",
        "\n",
        "assert_equals(solve([\"abode\",\"ABc\",\"xyzD\"]),[4,3,1])\n",
        "assert_equals(solve([\"abide\",\"ABc\",\"xyz\"]),[4,3,0])\n",
        "assert_equals(solve([\"IAMDEFANDJKL\",\"thedefgh\",\"xyzDEFghijabc\"]),[6,5,7])\n",
        "assert_equals(solve([\"encode\",\"abc\",\"xyzD\",\"ABmD\"]),[1, 3, 1, 3])"
      ]
    }
  ],
  "metadata": {
    "kernelspec": {
      "display_name": "Python 3",
      "language": "python",
      "name": "python3"
    },
    "language_info": {
      "codemirror_mode": {
        "name": "ipython",
        "version": 3
      },
      "file_extension": ".py",
      "mimetype": "text/x-python",
      "name": "python",
      "nbconvert_exporter": "python",
      "pygments_lexer": "ipython3",
      "version": "3.10.8"
    },
    "orig_nbformat": 4,
    "colab": {
      "provenance": [],
      "include_colab_link": true
    }
  },
  "nbformat": 4,
  "nbformat_minor": 0
}
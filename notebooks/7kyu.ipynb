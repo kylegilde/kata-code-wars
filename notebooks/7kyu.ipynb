{
 "cells": [
  {
   "cell_type": "code",
   "execution_count": 2,
   "metadata": {},
   "outputs": [],
   "source": [
    "def assert_equals(solution, ans, *args):\n",
    "    assert solution == ans, f\"{solution} should equal {ans}\""
   ]
  },
  {
   "cell_type": "markdown",
   "metadata": {},
   "source": [
    "# Moves in squared strings (I)\n",
    "\n",
    "This kata is the first of a sequence of four about \"Squared Strings\".\n",
    "\n",
    "You are given a string of n lines, each substring being n characters long: For example:\n",
    "\n",
    "s = \"abcd\\nefgh\\nijkl\\nmnop\"\n",
    "\n",
    "We will study some transformations of this square of strings.\n",
    "\n",
    "Vertical mirror: vert_mirror (or vertMirror or vert-mirror)\n",
    "vert_mirror(s) => \"dcba\\nhgfe\\nlkji\\nponm\"\n",
    "\n",
    "Horizontal mirror: hor_mirror (or horMirror or hor-mirror)\n",
    " hor_mirror(s) => \"mnop\\nijkl\\nefgh\\nabcd\"\n",
    "or printed:\n",
    "```\n",
    "vertical mirror   |horizontal mirror   \n",
    "abcd --> dcba     |abcd --> mnop \n",
    "efgh     hgfe     |efgh     ijkl \n",
    "ijkl     lkji     |ijkl     efgh \n",
    "mnop     ponm     |mnop     abcd \n",
    "```\n",
    "\n",
    "Task:\n",
    "Write these two functions\n",
    "and\n",
    "\n",
    "high-order function oper(fct, s) where\n",
    "\n",
    "fct is the function of one variable f to apply to the string s (fct will be one of vertMirror, horMirror)\n",
    "\n",
    "Examples:\n",
    "```\n",
    "s = \"abcd\\nefgh\\nijkl\\nmnop\"\n",
    "oper(vert_mirror, s) => \"dcba\\nhgfe\\nlkji\\nponm\"\n",
    "oper(hor_mirror, s) => \"mnop\\nijkl\\nefgh\\nabcd\"\n",
    "```\n",
    "\n",
    "\n",
    "Note:\n",
    "The form of the parameter fct in oper changes according to the language. You can see each form according to the language in \"Sample Tests\".\n"
   ]
  },
  {
   "cell_type": "code",
   "execution_count": 3,
   "metadata": {},
   "outputs": [],
   "source": [
    "def vert_mirror(strng):\n",
    "    return \"\\n\".join(s[::-1] for s in strng.split(\"\\n\"))\n",
    "def hor_mirror(strng):\n",
    "    return \"\\n\".join(reversed(strng.split(\"\\n\")))\n",
    "def oper(fct, s):\n",
    "    return fct(s)"
   ]
  },
  {
   "cell_type": "code",
   "execution_count": 4,
   "metadata": {},
   "outputs": [],
   "source": [
    "\n",
    "assert_equals(oper(vert_mirror, \"hSgdHQ\\nHnDMao\\nClNNxX\\niRvxxH\\nbqTVvA\\nwvSyRu\"), \"QHdgSh\\noaMDnH\\nXxNNlC\\nHxxvRi\\nAvVTqb\\nuRySvw\")\n",
    "assert_equals(oper(vert_mirror, \"IzOTWE\\nkkbeCM\\nWuzZxM\\nvDddJw\\njiJyHF\\nPVHfSx\"), \"EWTOzI\\nMCebkk\\nMxZzuW\\nwJddDv\\nFHyJij\\nxSfHVP\")\n",
    "assert_equals(oper(hor_mirror, \"lVHt\\nJVhv\\nCSbg\\nyeCt\"), \"yeCt\\nCSbg\\nJVhv\\nlVHt\")\n",
    "assert_equals(oper(hor_mirror, \"njMK\\ndbrZ\\nLPKo\\ncEYz\"), \"cEYz\\nLPKo\\ndbrZ\\nnjMK\")"
   ]
  },
  {
   "cell_type": "markdown",
   "metadata": {},
   "source": [
    "# Switcheroo\n",
    "\n",
    "Given a string made up of letters a, b, and/or c, switch the position of letters a and b (change a to b and vice versa). Leave any incidence of c untouched.\n",
    "\n",
    "Example:\n",
    "\n",
    "'acb' --> 'bca'\n",
    "'aabacbaa' --> 'bbabcabb'"
   ]
  },
  {
   "cell_type": "code",
   "execution_count": 10,
   "metadata": {},
   "outputs": [
    {
     "data": {
      "text/plain": [
       "'bac'"
      ]
     },
     "execution_count": 10,
     "metadata": {},
     "output_type": "execute_result"
    }
   ],
   "source": [
    "def switcheroo(s):\n",
    "    mapping = str.maketrans(\"ab\", \"ba\")\n",
    "    return s.translate(mapping)"
   ]
  },
  {
   "cell_type": "code",
   "execution_count": 11,
   "metadata": {},
   "outputs": [],
   "source": [
    "\n",
    "assert_equals(switcheroo(\"abc\"), \"bac\")\n",
    "assert_equals(switcheroo('aaabcccbaaa'), 'bbbacccabbb') \n",
    "assert_equals(switcheroo('ccccc'), 'ccccc')\n",
    "assert_equals(switcheroo('abababababababab'), 'babababababababa')\n",
    "assert_equals(switcheroo('aaaaa'), 'bbbbb')"
   ]
  },
  {
   "cell_type": "markdown",
   "metadata": {},
   "source": [
    "# Alphabet symmetry\n",
    "\n",
    "Consider the word \"abode\". We can see that the letter a is in position 1 and b is in position 2. In the alphabet, a and b are also in positions 1 and 2. Notice also that d and e in abode occupy the positions they would occupy in the alphabet, which are positions 4 and 5.\n",
    "\n",
    "Given an array of words, return an array of the number of letters that occupy their positions in the alphabet for each word. For example,\n",
    "\n",
    "solve([\"abode\",\"ABc\",\"xyzD\"]) = [4, 3, 1]\n",
    "See test cases for more examples.\n",
    "\n",
    "Input will consist of alphabet characters, both uppercase and lowercase. No spaces.\n",
    "\n",
    "Good luck!"
   ]
  },
  {
   "cell_type": "code",
   "execution_count": 19,
   "metadata": {},
   "outputs": [],
   "source": [
    "from string import ascii_lowercase\n",
    "\n",
    "def indices_match(s):\n",
    "    return sum(i == ascii_lowercase.index(v) for i, v in enumerate(s.lower()))\n",
    "\n",
    "def solve(arr):\n",
    "    return [indices_match(word) for word in arr]\n",
    "\n",
    "def solve(words):\n",
    "  return [sum(a == b for a, b in zip(w.lower(), ascii_lowercase)) for w in words]\n",
    "\n",
    "assert_equals(solve([\"abode\",\"ABc\",\"xyzD\"]),[4,3,1])\n",
    "assert_equals(solve([\"abide\",\"ABc\",\"xyz\"]),[4,3,0])\n",
    "assert_equals(solve([\"IAMDEFANDJKL\",\"thedefgh\",\"xyzDEFghijabc\"]),[6,5,7])\n",
    "assert_equals(solve([\"encode\",\"abc\",\"xyzD\",\"ABmD\"]),[1, 3, 1, 3])"
   ]
  }
 ],
 "metadata": {
  "kernelspec": {
   "display_name": "Python 3",
   "language": "python",
   "name": "python3"
  },
  "language_info": {
   "codemirror_mode": {
    "name": "ipython",
    "version": 3
   },
   "file_extension": ".py",
   "mimetype": "text/x-python",
   "name": "python",
   "nbconvert_exporter": "python",
   "pygments_lexer": "ipython3",
   "version": "3.10.8"
  },
  "orig_nbformat": 4
 },
 "nbformat": 4,
 "nbformat_minor": 2
}

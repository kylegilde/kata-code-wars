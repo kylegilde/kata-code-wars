{
  "cells": [
    {
      "cell_type": "markdown",
      "metadata": {
        "id": "view-in-github",
        "colab_type": "text"
      },
      "source": [
        "<a href=\"https://colab.research.google.com/github/kylegilde/kata-code-wars/blob/main/notebooks/6kyu.ipynb\" target=\"_parent\"><img src=\"https://colab.research.google.com/assets/colab-badge.svg\" alt=\"Open In Colab\"/></a>"
      ]
    },
    {
      "cell_type": "code",
      "execution_count": 1,
      "metadata": {
        "id": "R2VVYtJenPrk"
      },
      "outputs": [],
      "source": [
        "def assert_equals(solution, ans, *args):\n",
        "    assert solution == ans, f\"{solution} should equal {ans}\""
      ]
    },
    {
      "cell_type": "markdown",
      "metadata": {
        "id": "Iyl0XHCrnPrn"
      },
      "source": [
        "# Is a number prime?\n",
        "\n",
        "Define a function that takes an integer argument and returns a logical value true or false depending on if the integer is a prime.\n",
        "\n",
        "Per Wikipedia, a prime number ( or a prime ) is a natural number greater than 1 that has no positive divisors other than 1 and itself.\n",
        "\n",
        "Requirements\n",
        "- You can assume you will be given an integer input.\n",
        "- You can not assume that the integer will be only positive. You may be given negative numbers as well ( or 0 ).\n",
        "- NOTE on performance: There are no fancy optimizations required, but still the most trivial solutions might time out. Numbers go up to 2^31 ( or similar, depending on language ). Looping all the way up to n, or n/2, will be too slow.\n",
        "\n",
        "Example\n",
        "\n",
        "is_prime(1)  /* false */\n",
        "\n",
        "is_prime(2)  /* true  */\n",
        "\n",
        "is_prime(-1) /* false */\n"
      ]
    },
    {
      "cell_type": "code",
      "execution_count": null,
      "metadata": {
        "id": "_CYVTnUOnPrq"
      },
      "outputs": [],
      "source": [
        "def is_prime(num):\n",
        "\n",
        "  if num <= 1:\n",
        "    return False\n",
        "\n",
        "  for i in range(2, int(num**.5) + 1):\n",
        "    if num % i == 0:\n",
        "      return False\n",
        "\n",
        "  return True\n",
        "\n",
        "assert_equals(is_prime(0),  False, \"0  is not prime\")\n",
        "assert_equals(is_prime(1),  False, \"1  is not prime\")\n",
        "assert_equals(is_prime(2),  True, \"2  is prime\")\n",
        "assert_equals(is_prime(73), True, \"73 is prime\")\n",
        "assert_equals(is_prime(75), False, \"75 is not prime\")\n",
        "assert_equals(is_prime(-1), False, \"-1 is not prime\")\n",
        "\n",
        "assert_equals(is_prime(3),  True, \"3  is prime\");\n",
        "assert_equals(is_prime(5),  True, \"5  is prime\");\n",
        "assert_equals(is_prime(7),  True, \"7  is prime\");\n",
        "assert_equals(is_prime(41), True, \"41 is prime\");\n",
        "assert_equals(is_prime(5099), True, \"5099 is prime\");\n",
        "\n",
        "assert_equals(is_prime(4),  False, \"4  is not prime\");\n",
        "assert_equals(is_prime(6),  False, \"6  is not prime\");\n",
        "assert_equals(is_prime(8),  False, \"8  is not prime\");\n",
        "assert_equals(is_prime(9), False, \"9 is not prime\");\n",
        "assert_equals(is_prime(45), False, \"45 is not prime\");\n",
        "assert_equals(is_prime(-5), False, \"-5 is not prime\");\n",
        "assert_equals(is_prime(-8), False, \"-8 is not prime\");\n",
        "assert_equals(is_prime(-41), False, \"-41 is not prime\");"
      ]
    },
    {
      "cell_type": "markdown",
      "metadata": {
        "id": "0Abvzp4qnPrr"
      },
      "source": [
        "# [Mean without outliers](https://www.codewars.com/kata/5962d557be3f8bb0ca000010/train/python)\n",
        "\n",
        "The mean and standard deviation of a sample of data can be thrown off if the sample contains one or many outlier(s) :\n",
        "\n",
        "\n",
        "For this reason, it is usually a good idea to check for and remove outliers before computing the mean or the standard deviation of a sample. To this aim, your function will receive a list of numbers representing a sample of data. Your function must remove any outliers and return the mean of the sample, rounded to two decimal places (round only at the end).\n",
        "\n",
        "Since there is no objective definition of \"outlier\" in statistics, your function will also receive a cutoff, in standard deviation units. So for example if the cutoff is 3, then any value that is more than 3 standard deviations above or below the mean must be removed. Notice that, once outlying values are removed in a first \"sweep\", other less extreme values may then \"become\" outliers, that you'll have to remove as well!\n",
        "\n",
        "Example :\n",
        "\n",
        "sample = [1, 2, 3, 4, 5, 6, 7, 8, 9, 10, 100]\n",
        "\n",
        "cutoff = 3\n",
        "\n",
        "clean_mean(sample, cutoff) → 5.5"
      ]
    },
    {
      "cell_type": "code",
      "execution_count": null,
      "metadata": {
        "id": "N_qAa901nPrt"
      },
      "outputs": [],
      "source": [
        "from scipy.stats import zscore\n",
        "import numpy as np\n",
        "\n",
        "def find_outliers(sample, cutoff):\n",
        "    return np.abs(zscore(sample)) > cutoff\n",
        "\n",
        "\n",
        "def clean_mean(sample, cutoff):\n",
        "\n",
        "    sample = np.array(sample)\n",
        "\n",
        "    while np.any(outliers := find_outliers(sample, cutoff)):\n",
        "\n",
        "        sample = sample[np.logical_not(outliers)]\n",
        "\n",
        "    return round(np.mean(sample), 2)\n",
        "\n",
        "\n",
        "sample = [1, 2, 3, 4, 5, 6, 7, 8, 9, 10, 100]\n",
        "cutoff = 3\n",
        "assert_equals(clean_mean(sample, cutoff), 5.5)"
      ]
    },
    {
      "cell_type": "markdown",
      "metadata": {
        "id": "Q9fs7IwGnPrt"
      },
      "source": [
        "# Max From Common DataFrames\n",
        "\n",
        "\n",
        "Input parameters\n",
        "\n",
        "Two pandas.DataFrame objects\n",
        "\n",
        "Task\n",
        "Your function must return a new pandas.DataFrame with the same data and columns from the first parameter. For common columns in both inputs you must return the greater value of each cell for that column.\n",
        "\n",
        "You must not modify the original inputs.\n",
        "\n",
        "Input DataFrame will never be empty. The number rows of both inputs will be the same.\n",
        "\n",
        "Examples\n",
        "\n",
        "```\n",
        "Inputs\n",
        "   A    B    C\n",
        "0  2.5  2.0  2.0\n",
        "1  2.0  2.0  2.0\n",
        "   C    B    D    E\n",
        "0  1.0  6.0  7.0  1.0\n",
        "1  8.5  1.0  9.0  1.0\n",
        "Output\n",
        "   A    B    C\n",
        "0  2.5  6.0  2.0\n",
        "1  2.0  2.0  8.5\n",
        "```\n"
      ]
    },
    {
      "cell_type": "code",
      "execution_count": null,
      "metadata": {
        "id": "dJVROOgNnPru"
      },
      "outputs": [],
      "source": [
        "import pandas as pd\n",
        "\n",
        "def max_common(df_a, df_b):\n",
        "    return df_a.mask(df_a.lt(df_b), df_b)\n",
        "\n",
        "\n",
        "df_a = pd.DataFrame(data=[[2.5, 2.0, 2.0], [2.0, 2.0, 2.0]], columns=list('ABC'))\n",
        "df_b = pd.DataFrame(data=[[1.0, 6.0, 7.0, 1.0], [8.5, 1.0, 9.0, 1.0]], columns=list('CBDE'))\n",
        "df_out = pd.DataFrame(data=[[2.5, 6.0, 2.0], [2.0, 2.0, 8.5]], columns=list('ABC'))\n",
        "assert (max_common(df_a, df_b).equals(df_out))"
      ]
    },
    {
      "cell_type": "markdown",
      "metadata": {
        "id": "HYxLR_qXnPru"
      },
      "source": [
        "# Variance in a array of words\n",
        "\n",
        "\n",
        "Consider X as the aleatory variable that count the number of letters in a word. Write a function that, give in input an array of words (strings), calculate the variance of X. Max decimal of the variance : 4.\n",
        "\n",
        "Some wiki: Variance , Aleatory variable\n",
        "\n",
        "Example:\n",
        "\n",
        "Consider \"Hello\" and \"World\":\n",
        "\n",
        "X is { 5 } with P(X = 5) = 1 because the two words have the same length.\n",
        "So E[X] = 5 x 1 = 5 and the standard formula for variance is E[(X - u)^2] so 1 x (5-5)^2 = 0 or you can calculate with the other formula E[X^2] - E[X]^2 = 5^2 x 1 - 5^2 = 0"
      ]
    },
    {
      "cell_type": "code",
      "execution_count": null,
      "metadata": {
        "id": "oV-P5MWenPrv"
      },
      "outputs": [],
      "source": [
        "from statistics import pvariance\n",
        "\n",
        "def variance(words):\n",
        "\n",
        "    return round(pvariance(list(map(len, words))), 4)\n",
        "\n",
        "assert_equals(variance(\"Hello world\".split()), 0)\n",
        "assert_equals(variance(\"Hi world\".split()), 2.25)"
      ]
    },
    {
      "cell_type": "markdown",
      "metadata": {
        "id": "S6CvtY-onPrv"
      },
      "source": [
        "# Clocky Mc Clock-Face\n",
        "\n",
        "\n",
        "Due to lack of maintenance the minute-hand has fallen off Town Hall clock face.\n",
        "\n",
        "And because the local council has lost most of our tax money to a Nigerian email scam there are no funds to fix the clock properly.\n",
        "\n",
        "Instead, they are asking for volunteer programmers to write some code that tell the time by only looking at the remaining hour-hand!\n",
        "\n",
        "What a bunch of cheapskates!\n",
        "\n",
        "Can you do it?\n",
        "\n",
        "Kata\n",
        "Given the angle (in degrees) of the hour-hand, return the time in 12 hour HH:MM format. Round down to the nearest minute.\n",
        "\n",
        "Examples\n",
        "\n",
        "12:00 = 0 degrees\n",
        "\n",
        "03:00 = 90 degrees\n",
        "\n",
        "06:00 = 180 degrees\n",
        "\n",
        "09:00 = 270 degrees\n",
        "\n",
        "12:00 = 360 degrees\n",
        "\n",
        "Notes\n",
        "0 <= angle <= 360\n",
        "\n",
        "Do not make any AM or PM assumptions for the HH:MM result. They are indistinguishable for this Kata.\n",
        "\n",
        "3 o'clock is 03:00, not 15:00\n",
        "7 minutes past midnight is 12:07\n",
        "7 minutes past noon is also 12:07"
      ]
    },
    {
      "cell_type": "code",
      "execution_count": null,
      "metadata": {
        "id": "cxL6YIcTnPrw"
      },
      "outputs": [],
      "source": [
        "def what_time_is_it(angle):\n",
        "    hour = angle // 30\n",
        "    minute = (angle - hour * 30) * 2\n",
        "\n",
        "    if hour == 0:\n",
        "        hour = 12\n",
        "\n",
        "    return f\"{int(hour):02}:{int(minute):02}\"\n",
        "\n",
        "\n",
        "assert_equals(what_time_is_it(0), '12:00')\n",
        "assert_equals(what_time_is_it(360), '12:00')\n",
        "assert_equals(what_time_is_it(90), '03:00')\n",
        "assert_equals(what_time_is_it(180), '06:00')\n",
        "assert_equals(what_time_is_it(270), '09:00')\n",
        "assert_equals(what_time_is_it(30), '01:00')"
      ]
    },
    {
      "cell_type": "markdown",
      "metadata": {
        "id": "V7gyxhSonPrw"
      },
      "source": [
        "# [Triangle type](https://www.codewars.com/kata/53907ac3cd51b69f790006c5/train/python)\n",
        "\n",
        "\n",
        "In this kata, you should calculate type of triangle with three given sides a, b and c (given in any order).\n",
        "\n",
        "If all angles are less than 90°, this triangle is acute and function should return 1.\n",
        "\n",
        "If one angle is strictly 90°, this triangle is right and function should return 2.\n",
        "\n",
        "If one angle more than 90°, this triangle is obtuse and function should return 3.\n",
        "\n",
        "If three sides cannot form triangle, or one angle is 180° (which turns triangle into segment) - function should return 0.\n",
        "\n",
        "Input parameters are sides of given triangle. All input values are non-negative floating point or integer numbers (or both).\n",
        "\n",
        "\n",
        "Acute\n",
        "\n",
        "Right\n",
        "\n",
        "Obtuse\n",
        "\n",
        "Examples:\n",
        "```\n",
        "(2, 4, 6) ---> return 0 (Not triangle)\n",
        "(8, 5, 7) ---> return 1 (Acute, angles are approx. 82°, 38° and 60°)\n",
        "(3, 4, 5) ---> return 2 (Right, angles are approx. 37°, 53° and exactly 90°)\n",
        "(7, 12, 8) ---> return 3 (Obtuse, angles are approx. 34°, 106° and 40°)\n",
        "```\n",
        "\n",
        "If you stuck, this can help you: http://en.wikipedia.org/wiki/Law_of_cosines. But you can solve this kata even without angle calculation.\n",
        "\n",
        "There is very small chance of random test to fail due to round-off error, in such case resubmit your solution."
      ]
    },
    {
      "cell_type": "code",
      "execution_count": null,
      "metadata": {
        "id": "dgZNm_d-nPrw"
      },
      "outputs": [],
      "source": [
        "def triangle_type(a, b, c):\n",
        "\n",
        "    a, b, c = sorted([a, b, c])\n",
        "\n",
        "    if a + b <= c:\n",
        "        return 0\n",
        "    elif a**2 + b**2 > c**2:\n",
        "        return 1\n",
        "    elif a**2 + b**2 == c**2:\n",
        "        return 2\n",
        "    else:\n",
        "        return 3\n",
        "\n",
        "\n",
        "def do_test(sides, expected):\n",
        "    type = [\"INVALID\", \"ACUTE\", \"RIGHT\", \"OBTUSE\"][expected]\n",
        "    msg = \"Sides = ({}, {}, {}), type = {}\".format(*sides, type)\n",
        "    actual = triangle_type(sides[0], sides[1], sides[2])\n",
        "    assert_equals(actual, expected, msg)\n",
        "\n",
        "\n",
        "do_test([7, 3, 2], 0) # Not triangle\n",
        "do_test([2, 4, 6], 0) # Not triangle\n",
        "do_test([8, 5, 7], 1) # Acute\n",
        "do_test([3, 4, 5], 2) # Right\n",
        "do_test([7, 12, 8], 3) # Obtuse"
      ]
    },
    {
      "cell_type": "markdown",
      "metadata": {
        "id": "-JeshIntnPrw"
      },
      "source": [
        "# [Character with longest consecutive repetition](https://www.codewars.com/kata/586d6cefbcc21eed7a001155/python)\n",
        "\n",
        "For a given string s find the character c (or C) with longest consecutive repetition and return:\n",
        "\n",
        "(c, l)\n",
        "\n",
        "where l (or L) is the length of the repetition. If there are two or more characters with the same l return the first in order of appearance.\n",
        "\n",
        "For empty string return:\n",
        "\n",
        "('', 0)"
      ]
    },
    {
      "cell_type": "code",
      "execution_count": null,
      "metadata": {
        "id": "NKTM2XjunPrw",
        "outputId": "abb71714-287d-4604-c7b3-892ded949365"
      },
      "outputs": [
        {
          "name": "stdout",
          "output_type": "stream",
          "text": [
            "19 µs ± 126 ns per loop (mean ± std. dev. of 7 runs, 100,000 loops each)\n"
          ]
        }
      ],
      "source": [
        "%%timeit\n",
        "\n",
        "from itertools import groupby\n",
        "\n",
        "# clever\n",
        "def longest_repetition(chars):\n",
        "\n",
        "    return max([(k, len(list(g))) for k, g in groupby(chars)],\n",
        "               key=lambda x: (x[1]),\n",
        "               default=('', 0))\n",
        "\n",
        "tests = [\n",
        "    # [input, expected],\n",
        "    [\"aaaabb\", ('a', 4)],\n",
        "    [\"bbbaaabaaaa\", ('a', 4)],\n",
        "    [\"cbdeuuu900\", ('u', 3)],\n",
        "    [\"abbbbb\", ('b', 5)],\n",
        "    [\"aabb\", ('a', 2)],\n",
        "    [\"ba\", ('b', 1)],\n",
        "    [\"\", ('', 0)],\n",
        "]\n",
        "\n",
        "for inp, exp in tests:\n",
        "    assert_equals(longest_repetition(inp), exp)"
      ]
    },
    {
      "cell_type": "code",
      "execution_count": null,
      "metadata": {
        "id": "T3MNiG2-nPrx",
        "outputId": "2a98c89a-73b6-4cd8-d725-37b7fcce60c9"
      },
      "outputs": [
        {
          "name": "stdout",
          "output_type": "stream",
          "text": [
            "6.22 µs ± 112 ns per loop (mean ± std. dev. of 7 runs, 100,000 loops each)\n"
          ]
        }
      ],
      "source": [
        "%%timeit\n",
        "\n",
        "# faster\n",
        "def longest_repetition(chars):\n",
        "    max_char, max_count = '', 0\n",
        "    char, count = '', 0\n",
        "    for c in chars:\n",
        "        if c != char:\n",
        "            count, char = 0, c\n",
        "        count += 1\n",
        "        if count > max_count:\n",
        "            max_char, max_count = char, count\n",
        "    return max_char, max_count\n",
        "\n",
        "tests = [\n",
        "    # [input, expected],\n",
        "    [\"aaaabb\", ('a', 4)],\n",
        "    [\"bbbaaabaaaa\", ('a', 4)],\n",
        "    [\"cbdeuuu900\", ('u', 3)],\n",
        "    [\"abbbbb\", ('b', 5)],\n",
        "    [\"aabb\", ('a', 2)],\n",
        "    [\"ba\", ('b', 1)],\n",
        "    [\"\", ('', 0)],\n",
        "]\n",
        "\n",
        "for inp, exp in tests:\n",
        "    assert_equals(longest_repetition(inp), exp)"
      ]
    },
    {
      "cell_type": "markdown",
      "metadata": {
        "id": "z1AcQCxRnPrx"
      },
      "source": [
        "# Newton's Square Root"
      ]
    },
    {
      "cell_type": "code",
      "execution_count": null,
      "metadata": {
        "id": "nobfl4H9nPry",
        "outputId": "b39c2195-4b8c-45fa-ba36-db55dc2810ad"
      },
      "outputs": [
        {
          "name": "stdout",
          "output_type": "stream",
          "text": [
            "0.62\n",
            "0.5035483870967742\n",
            "0.49008296997375544\n",
            "0.4898979834822777\n",
            "0.4898979485566368\n"
          ]
        },
        {
          "data": {
            "text/plain": [
              "0.4898979485566368"
            ]
          },
          "execution_count": 2,
          "metadata": {},
          "output_type": "execute_result"
        }
      ],
      "source": [
        "def newtons_sqrt(n, tolerance):\n",
        "\n",
        "    # Assuming the sqrt of n as n only\n",
        "    previous_estimate = n\n",
        "    new_estimate = 1\n",
        "\n",
        "    while abs(new_estimate - previous_estimate) > tolerance:\n",
        "\n",
        "        previous_estimate = new_estimate\n",
        "\n",
        "        # Calculate more close x\n",
        "        new_estimate = (previous_estimate + n / previous_estimate) / 2\n",
        "        print(new_estimate)\n",
        "\n",
        "    return new_estimate\n",
        "\n",
        "\n",
        "newtons_sqrt(.24, .00001)"
      ]
    },
    {
      "cell_type": "markdown",
      "metadata": {
        "id": "YGHniPS4nPry"
      },
      "source": [
        "# If you can read this...\n",
        "\n",
        "\n",
        "You'll have to translate a string to Pilot's alphabet (NATO phonetic alphabet).\n",
        "\n",
        "Input:\n",
        "\n",
        "If, you can read?\n",
        "\n",
        "Output:\n",
        "\n",
        "India Foxtrot , Yankee Oscar Uniform Charlie Alfa November Romeo Echo Alfa Delta ?\n",
        "\n",
        "Note:\n",
        "\n",
        "- There are preloaded dictionary you can use, named NATO\n",
        "\n",
        "- The set of used punctuation is ,.!?.\n",
        "\n",
        "- Punctuation should be kept in your return string, but spaces should not.\n",
        "\n",
        "- Xray should not have a dash within.\n",
        "\n",
        "- Every word and punctuation mark should be seperated by a space ' '.\n",
        "\n",
        "- There should be no trailing whitespace"
      ]
    },
    {
      "cell_type": "code",
      "execution_count": null,
      "metadata": {
        "id": "eJM72pGHnPry"
      },
      "outputs": [],
      "source": [
        "NATO = {'A': 'Alfa', 'B': 'Bravo', 'C': 'Charlie', 'D': 'Delta', 'E': 'Echo', 'F': 'Foxtrot', 'G': 'Golf', 'H': 'Hotel', 'I': 'India', 'J': 'Juliett', 'K': 'Kilo', 'L': 'Lima', 'M': 'Mike', 'N': 'November', 'O': 'Oscar', 'P': 'Papa', 'Q': 'Quebec', 'R': 'Romeo', 'S': 'Sierra', 'T': 'Tango', 'U': 'Uniform', 'V': 'Victor', 'W': 'Whiskey', 'X': 'Xray', 'Y': 'Yankee', 'Z': 'Zulu'}\n",
        "\n",
        "def to_nato(words):\n",
        "    return \" \".join(NATO.get(c, c) for c in words.upper() if not c.isspace())\n",
        "\n",
        "assert_equals(to_nato('If you can read'), \"India Foxtrot Yankee Oscar Uniform Charlie Alfa November Romeo Echo Alfa Delta\")\n",
        "assert_equals(to_nato('Did not see that coming'), \"Delta India Delta November Oscar Tango Sierra Echo Echo Tango Hotel Alfa Tango Charlie Oscar Mike India November Golf\")\n",
        "assert_equals(to_nato('.d?d!'),'. Delta ? Delta !')"
      ]
    },
    {
      "cell_type": "markdown",
      "metadata": {
        "id": "j8BR9F3bnPry"
      },
      "source": [
        "# Multi-tap Keypad Text Entry on an Old Mobile Phone\n",
        "\n",
        "Prior to having fancy iPhones, teenagers would wear out their thumbs sending SMS messages on candybar-shaped feature phones with 3x4 numeric keypads.\n",
        "```\n",
        "------- ------- -------\n",
        "|     | | ABC | | DEF |\n",
        "|  1  | |  2  | |  3  |\n",
        "------- ------- -------\n",
        "------- ------- -------\n",
        "| GHI | | JKL | | MNO |\n",
        "|  4  | |  5  | |  6  |\n",
        "------- ------- -------\n",
        "------- ------- -------\n",
        "|PQRS | | TUV | | WXYZ|\n",
        "|  7  | |  8  | |  9  |\n",
        "------- ------- -------\n",
        "------- ------- -------\n",
        "|     | |space| |     |\n",
        "|  *  | |  0  | |  #  |\n",
        "------- ------- -------\n",
        "```\n",
        "\n",
        "Prior to the development of T9 (predictive text entry) systems, the method to type words was called \"multi-tap\" and involved pressing a button repeatedly to cycle through the possible values.\n",
        "\n",
        "For example, to type a letter \"R\" you would press the 7 key three times (as the screen display for the current character cycles through P->Q->R->S->7). A character is \"locked in\" once the user presses a different key or pauses for a short period of time (thus, no extra button presses are required beyond what is needed for each letter individually). The zero key handles spaces, with one press of the key producing a space and two presses producing a zero.\n",
        "\n",
        "In order to send the message \"WHERE DO U WANT 2 MEET L8R\" a teen would have to actually do 47 button presses. No wonder they abbreviated.\n",
        "\n",
        "For this assignment, write a module that can calculate the amount of button presses required for any phrase. Punctuation can be ignored for this exercise. Likewise, you can assume the phone doesn't distinguish between upper/lowercase characters (but you should allow your module to accept input in either for convenience).\n",
        "\n",
        "Hint: While it wouldn't take too long to hard code the amount of keypresses for all 26 letters by hand, try to avoid doing so! (Imagine you work at a phone manufacturer who might be testing out different keyboard layouts, and you want to be able to test new ones rapidly.)"
      ]
    },
    {
      "cell_type": "code",
      "execution_count": null,
      "metadata": {
        "id": "6mXcBrt6nPrz"
      },
      "outputs": [],
      "source": [
        "from string import ascii_lowercase\n",
        "\n",
        "def presses(phrase, letter_bins=(0, 3, 3, 3, 3, 3, 4, 3, 4, 1)):\n",
        "\n",
        "    letters = list(ascii_lowercase) + [\" \"]\n",
        "    letter_taps = [t for b in letter_bins for t in range(1, b + 1)]\n",
        "    letter_mapping = dict(zip(letters, letter_taps))\n",
        "\n",
        "    numbers = list(map(str, range(1, 10))) + [\"0\"]\n",
        "    number_mapping = {n: t + 1 for n, t in zip(numbers, letter_bins)}\n",
        "\n",
        "    mapping = {**letter_mapping, **number_mapping}\n",
        "\n",
        "    total_taps = 0\n",
        "\n",
        "    for c in phrase.lower():\n",
        "        total_taps += mapping.get(c, 1)\n",
        "\n",
        "    return total_taps\n",
        "\n",
        "\n",
        "assert_equals(presses(\"LOL\"), 9)\n",
        "assert_equals(presses(\"HOW R U\"), 13)\n",
        "assert_equals(presses(\"WHERE DO U WANT 2 MEET L8R\"), 47)"
      ]
    },
    {
      "cell_type": "markdown",
      "metadata": {
        "id": "aMU1iyBJnPrz"
      },
      "source": [
        "[Dashatize it](https://www.codewars.com/kata/58223370aef9fc03fd000071)\n",
        "\n",
        "Given a variable n,\n",
        "\n",
        "If n is an integer, Return a string with dash'-'marks before and after each odd integer, but do not begin or end the string with a dash mark. If n is negative, then the negative sign should be removed.\n",
        "\n",
        "If n is not an integer, return the string \"None\".\n",
        "\n",
        "Ex:\n",
        "\n",
        "dashatize(274) -> '2-7-4'\n",
        "\n",
        "dashatize(6815) -> '68-1-5'"
      ]
    },
    {
      "cell_type": "code",
      "execution_count": null,
      "metadata": {
        "id": "gJfqfImMnPrz",
        "outputId": "d7e73f12-667b-48aa-b8da-b348489e1158"
      },
      "outputs": [
        {
          "name": "stdout",
          "output_type": "stream",
          "text": [
            "24.8 µs ± 3.04 µs per loop (mean ± std. dev. of 7 runs, 10,000 loops each)\n"
          ]
        }
      ],
      "source": [
        "%%timeit\n",
        "\n",
        "import re\n",
        "\n",
        "def dashatize(n):\n",
        "    if isinstance(n, int):\n",
        "        n = re.sub(r\"([13579])\", r\"-\\1-\", str(abs(n)))\n",
        "        n = n.replace(\"--\", \"-\").strip(\"-\")\n",
        "        return n\n",
        "    return \"None\"\n",
        "\n",
        "assert_equals(dashatize(274),\"2-7-4\", \"Should return 2-7-4\")\n",
        "assert_equals(dashatize(5311),\"5-3-1-1\", \"Should return 5-3-1-1\")\n",
        "assert_equals(dashatize(86320),\"86-3-20\", \"Should return 86-3-20\")\n",
        "assert_equals(dashatize(974302),\"9-7-4-3-02\", \"Should return 9-7-4-3-02\")"
      ]
    },
    {
      "cell_type": "code",
      "execution_count": null,
      "metadata": {
        "id": "W0dV2ho3nPrz",
        "outputId": "99334e9d-0be3-45cf-fdaf-1501abae471b"
      },
      "outputs": [
        {
          "name": "stdout",
          "output_type": "stream",
          "text": [
            "11.3 µs ± 70.5 ns per loop (mean ± std. dev. of 7 runs, 100,000 loops each)\n"
          ]
        }
      ],
      "source": [
        "%%timeit\n",
        "\n",
        "def dashatize(n):\n",
        "    if isinstance(n, int):\n",
        "        return '-'.join(w for w in re.split(r'([13579])', str(abs(n))) if len(w) > 0)\n",
        "    return \"None\"\n",
        "\n",
        "assert_equals(dashatize(274),\"2-7-4\", \"Should return 2-7-4\")\n",
        "assert_equals(dashatize(5311),\"5-3-1-1\", \"Should return 5-3-1-1\")\n",
        "assert_equals(dashatize(86320),\"86-3-20\", \"Should return 86-3-20\")\n",
        "assert_equals(dashatize(974302),\"9-7-4-3-02\", \"Should return 9-7-4-3-02\")"
      ]
    },
    {
      "cell_type": "markdown",
      "metadata": {
        "id": "0IO7xJVgnPrz"
      },
      "source": [
        "# [Reverse every other word in the string](https://www.codewars.com/kata/58d76854024c72c3e20000de/train/python)\n",
        "\n",
        "\n",
        "Reverse every other word in a given string, then return the string. Throw away any leading or trailing whitespace, while ensuring there is exactly one space between each word. Punctuation marks should be treated as if they are a part of the word in this kata."
      ]
    },
    {
      "cell_type": "code",
      "execution_count": null,
      "metadata": {
        "id": "5SG-yX9FnPrz",
        "outputId": "1399c5a6-1249-4b0c-9097-6e360e34abed"
      },
      "outputs": [
        {
          "name": "stdout",
          "output_type": "stream",
          "text": [
            "10.2 µs ± 378 ns per loop (mean ± std. dev. of 7 runs, 100,000 loops each)\n"
          ]
        }
      ],
      "source": [
        "%%timeit\n",
        "\n",
        "def reverse_alternate(s):\n",
        "\n",
        "    return \" \".join([w[::-1] if i % 2 else w for i, w in enumerate(s.split())])\n",
        "\n",
        "assert_equals(reverse_alternate(\"Did it work?\"), \"Did ti work?\")\n",
        "assert_equals(reverse_alternate(\"I really hope it works this time...\"), \"I yllaer hope ti works siht time...\")\n",
        "assert_equals(reverse_alternate(\"Reverse this string, please!\"), \"Reverse siht string, !esaelp\")\n",
        "assert_equals(reverse_alternate(\"Have a beer\"), \"Have a beer\")\n",
        "assert_equals(reverse_alternate(\"   \"), \"\")\n",
        "assert_equals(reverse_alternate(\"This is not a test \"), \"This si not a test\")\n",
        "assert_equals(reverse_alternate(\"This       is a  test \"), \"This si a tset\")"
      ]
    },
    {
      "cell_type": "code",
      "execution_count": null,
      "metadata": {
        "id": "d_1GmoAXnPr0",
        "outputId": "51810fff-45b7-4571-f148-bb1c3d540e80"
      },
      "outputs": [
        {
          "name": "stdout",
          "output_type": "stream",
          "text": [
            "8.95 µs ± 114 ns per loop (mean ± std. dev. of 7 runs, 100,000 loops each)\n"
          ]
        }
      ],
      "source": [
        "%%timeit\n",
        "\n",
        "def reverse_alternate(s):\n",
        "  words = s.split()\n",
        "  words[1::2] = [word[::-1] for word in words[1::2]]\n",
        "  return ' '.join(words)\n",
        "\n",
        "assert_equals(reverse_alternate(\"Did it work?\"), \"Did ti work?\")\n",
        "assert_equals(reverse_alternate(\"I really hope it works this time...\"), \"I yllaer hope ti works siht time...\")\n",
        "assert_equals(reverse_alternate(\"Reverse this string, please!\"), \"Reverse siht string, !esaelp\")\n",
        "assert_equals(reverse_alternate(\"Have a beer\"), \"Have a beer\")\n",
        "assert_equals(reverse_alternate(\"   \"), \"\")\n",
        "assert_equals(reverse_alternate(\"This is not a test \"), \"This si not a test\")\n",
        "assert_equals(reverse_alternate(\"This       is a  test \"), \"This si a tset\")"
      ]
    },
    {
      "cell_type": "markdown",
      "metadata": {
        "id": "o5CQgXPinPr0"
      },
      "source": [
        "# [Highest Rank Number in an Array](https://www.codewars.com/kata/5420fc9bb5b2c7fd57000004/train/python)\n",
        "\n",
        "Complete the method which returns the number which is most frequent in the given input array. If there is a tie for most frequent number, return the largest number among them.\n",
        "\n",
        "Note: no empty arrays will be given.\n",
        "\n",
        "Examples\n",
        "\n",
        "[12, 10, 8, 12, 7, 6, 4, 10, 12]              -->  12\n",
        "\n",
        "[12, 10, 8, 12, 7, 6, 4, 10, 12, 10]          -->  12\n",
        "\n",
        "[12, 10, 8, 8, 3, 3, 3, 3, 2, 4, 10, 12, 10]  -->  3"
      ]
    },
    {
      "cell_type": "code",
      "execution_count": null,
      "metadata": {
        "id": "dczj7G-RnPr0",
        "outputId": "968e66a1-a9e8-4604-c52a-6f6aa546872b"
      },
      "outputs": [
        {
          "name": "stdout",
          "output_type": "stream",
          "text": [
            "7.68 µs ± 123 ns per loop (mean ± std. dev. of 7 runs, 100,000 loops each)\n"
          ]
        }
      ],
      "source": [
        "%%timeit\n",
        "\n",
        "from collections import Counter\n",
        "\n",
        "def highest_rank(arr):\n",
        "    # your code here\n",
        "    counts = Counter(arr)\n",
        "\n",
        "    max_count = max(counts.values())\n",
        "\n",
        "    return max([k for k, v in counts.items() if v == max_count])\n",
        "\n",
        "\n",
        "assert_equals(highest_rank([12, 10, 8, 12, 7, 6, 4, 10, 12]), 12)\n",
        "assert_equals(highest_rank([12, 10, 8, 12, 7, 6, 4, 10, 10]), 10)"
      ]
    },
    {
      "cell_type": "code",
      "execution_count": null,
      "metadata": {
        "id": "Ru1BGe3SnPr0",
        "outputId": "ad31871f-2911-463a-da93-6a7a570b0a43"
      },
      "outputs": [
        {
          "name": "stdout",
          "output_type": "stream",
          "text": [
            "7.02 µs ± 102 ns per loop (mean ± std. dev. of 7 runs, 100,000 loops each)\n"
          ]
        }
      ],
      "source": [
        "%%timeit\n",
        "\n",
        "def highest_rank(arr):\n",
        "    return sorted(arr, key=lambda x: (arr.count(x), x))[-1]\n",
        "\n",
        "assert_equals(highest_rank([12, 10, 8, 12, 7, 6, 4, 10, 12]), 12)\n",
        "assert_equals(highest_rank([12, 10, 8, 12, 7, 6, 4, 10, 10]), 10)"
      ]
    },
    {
      "cell_type": "code",
      "execution_count": null,
      "metadata": {
        "id": "TUrYpuirnPr0",
        "outputId": "3e796b6d-f8b6-437a-85eb-ae7908d6f9bf"
      },
      "outputs": [
        {
          "name": "stdout",
          "output_type": "stream",
          "text": [
            "4.73 µs ± 99 ns per loop (mean ± std. dev. of 7 runs, 100,000 loops each)\n"
          ]
        }
      ],
      "source": [
        "%%timeit\n",
        "\n",
        "def highest_rank(arr):\n",
        "    return max(sorted(arr, reverse=True), key=arr.count)\n",
        "\n",
        "assert_equals(highest_rank([12, 10, 8, 12, 7, 6, 4, 10, 12]), 12)\n",
        "assert_equals(highest_rank([12, 10, 8, 12, 7, 6, 4, 10, 10]), 10)\n"
      ]
    },
    {
      "cell_type": "markdown",
      "metadata": {
        "id": "nN-V9uVnnPr0"
      },
      "source": [
        "# Roman Numerals Decoder\n",
        "\n",
        "DESCRIPTION:\n",
        "\n",
        "Create a function that takes a Roman numeral as its argument and returns its value as a numeric decimal integer. You don't need to validate the form of the Roman numeral.\n",
        "\n",
        "Modern Roman numerals are written by expressing each decimal digit of the number to be encoded separately, starting with the leftmost digit and skipping any 0s. So 1990 is rendered \"MCMXC\" (1000 = M, 900 = CM, 90 = XC) and 2008 is rendered \"MMVIII\" (2000 = MM, 8 = VIII). The Roman numeral for 1666, \"MDCLXVI\", uses each letter in descending order.\n",
        "\n",
        "Example:\n",
        "\n",
        "solution('XXI') # should return 21\n",
        "\n",
        "```\n",
        "Symbol    Value\n",
        "I          1\n",
        "V          5\n",
        "X          10\n",
        "L          50\n",
        "C          100\n",
        "D          500\n",
        "M          1,000\n",
        "```\n"
      ]
    },
    {
      "cell_type": "code",
      "execution_count": null,
      "metadata": {
        "id": "GEC6ypZenPr1"
      },
      "outputs": [],
      "source": [
        "def solution(roman):\n",
        "    \"\"\"complete the solution by transforming the roman numeral into an integer\"\"\"\n",
        "\n",
        "    mapper = dict(\n",
        "        I=1,\n",
        "        V=5,\n",
        "        X=10,\n",
        "        L=50,\n",
        "        C=100,\n",
        "        D=500,\n",
        "        M=1000,\n",
        "    )\n",
        "\n",
        "    num_list = [mapper[letter] for letter in roman]\n",
        "\n",
        "    for i in range(len(num_list)):\n",
        "        if i < len(num_list) - 1:\n",
        "            if num_list[i + 1] > num_list[i]:\n",
        "                num_list[i + 1] = num_list[i + 1] - num_list[i]\n",
        "                num_list[i] = 0\n",
        "\n",
        "    return sum(num_list)\n",
        "\n",
        "def solution(roman):\n",
        "    dict = {\n",
        "        \"M\": 1000,\n",
        "        \"D\": 500,\n",
        "        \"C\": 100,\n",
        "        \"L\": 50,\n",
        "        \"X\": 10,\n",
        "        \"V\": 5,\n",
        "        \"I\": 1\n",
        "    }\n",
        "\n",
        "    last, total = 0, 0\n",
        "    for c in list(roman)[::-1]:\n",
        "        if last == 0:\n",
        "            total += dict[c]\n",
        "        elif last > dict[c]:\n",
        "            total -= dict[c]\n",
        "        else:\n",
        "            total += dict[c]\n",
        "        last = dict[c]\n",
        "    return total\n",
        "\n",
        "def solution(roman):\n",
        "\n",
        "    romanic = {\"M\":1000,\"D\":500,\"C\":100,\"L\":50,\"X\":10,\"V\":5,\"I\":1}\n",
        "    total = 0\n",
        "    prev_num = 0\n",
        "\n",
        "    for i in roman:\n",
        "        total += romanic[i]\n",
        "        if romanic[i] > prev_num:\n",
        "            total -= (2 * prev_num)\n",
        "        prev_num = romanic[i]\n",
        "\n",
        "    return total"
      ]
    },
    {
      "cell_type": "markdown",
      "metadata": {
        "id": "z5Ro5P3tnPr1"
      },
      "source": [
        "# Triple trouble\n",
        "\n",
        "\n",
        "Write a function\n",
        "\n",
        "triple_double(num1, num2)\n",
        "which takes numbers num1 and num2 and returns 1 if there is a straight triple of a number at any place in num1 and also a straight double of the same number in num2.\n",
        "\n",
        "If this isn't the case, return 0\n",
        "\n",
        "```\n",
        "triple_double(451999277, 41177722899) == 1\n",
        "# num1 has straight triple 999s and num2 has straight double 99s\n",
        "\n",
        "triple_double(1222345, 12345) == 0\n",
        "# num1 has straight triple 2s but num2 has only a single 2\n",
        "\n",
        "triple_double(12345, 12345) == 0\n",
        "\n",
        "triple_double(666789, 12345667) == 1\n",
        "\n",
        "```\n"
      ]
    },
    {
      "cell_type": "code",
      "execution_count": null,
      "metadata": {
        "id": "Tnx4sV2DnPr1"
      },
      "outputs": [],
      "source": [
        "# from itertools import groupby\n",
        "\n",
        "# def triple_double(num1, num2):\n",
        "\n",
        "#     num1, num2 = groupby(str(num1)), groupby(str(num2))\n",
        "#     num1 = dict([(k, len(list(v))) for k, v in num1])\n",
        "#     num2 = dict([(k, len(list(v))) for k, v in num2])\n",
        "#     common_keys = set([*num1.keys(), *num2.keys()])\n",
        "\n",
        "#     for k in common_keys:\n",
        "#         if num1.get(k, 0) >= 3 and num2.get(k, 0) >= 2:\n",
        "#             return 1\n",
        "#     return 0\n",
        "\n",
        "def triple_double(num1, num2):\n",
        "    num1, num2 = str(num1), str(num2)\n",
        "    for n in range(10):\n",
        "        if str(n) * 3 in num1:\n",
        "            if str(n) * 2 in num2:\n",
        "                return 1\n",
        "    return 0"
      ]
    },
    {
      "cell_type": "code",
      "execution_count": null,
      "metadata": {
        "id": "1n1QOruYnPr1"
      },
      "outputs": [],
      "source": [
        "assert_equals(triple_double(451999277, 41177722899), 1)\n",
        "assert_equals(triple_double(1222345, 12345), 0)\n",
        "assert_equals(triple_double(12345, 12345), 0)\n",
        "assert_equals(triple_double(666789, 12345667), 1)\n",
        "assert_equals(triple_double(10560002, 100), 1)\n",
        "assert_equals(triple_double(1112, 122), 0)"
      ]
    },
    {
      "cell_type": "markdown",
      "metadata": {
        "id": "N3Bk2DpanPr1"
      },
      "source": [
        "# [+1 Array](https://www.codewars.com/kata/5514e5b77e6b2f38e0000ca9/train/python)\n",
        "\n",
        "Given an array of integers of any length, return an array that has 1 added to the value represented by the array.\n",
        "\n",
        "the array can't be empty\n",
        "only non-negative, single digit integers are allowed\n",
        "Return nil (or your language's equivalent) for invalid inputs.\n",
        "\n",
        "```\n",
        "[4, 3, 2, 5] would return [4, 3, 2, 6]\n",
        "[1, 2, 3, 9] would return [1, 2, 4, 0]\n",
        "[9, 9, 9, 9] would return [1, 0, 0, 0, 0]\n",
        "[0, 1, 3, 7] would return [0, 1, 3, 8]\n",
        "```\n"
      ]
    },
    {
      "cell_type": "code",
      "execution_count": null,
      "metadata": {
        "id": "lq-r-72FnPr1"
      },
      "outputs": [],
      "source": [
        "def up_array(arr):\n",
        "    if arr and all(map(lambda x: 0 <= x <=9, arr)):\n",
        "        new_int = int(\"\".join(map(str, arr))) + 1\n",
        "        new_arr = list(str(new_int).zfill(len(arr)))\n",
        "        new_arr = list(map(int, new_arr))\n",
        "        return new_arr\n",
        "\n",
        "def up_array(a):\n",
        "\n",
        "    if not a or any(not 0 <= x < 10 for x in a):\n",
        "        return\n",
        "\n",
        "    for i in range(1, len(a) + 1):\n",
        "        a[-i] = (a[-i] + 1) % 10 # returns 0 if it's a 9\n",
        "        # if not zero, stop\n",
        "        if a[-i]:\n",
        "            break\n",
        "\n",
        "    else:\n",
        "        a[:0] = [1]\n",
        "    return a"
      ]
    },
    {
      "cell_type": "code",
      "execution_count": null,
      "metadata": {
        "id": "N7eERPBHnPr6"
      },
      "outputs": [],
      "source": [
        "assert_equals(up_array([2,3,9]), [2,4,0])\n",
        "assert_equals(up_array([9,9]), [1,0,0])\n",
        "assert_equals(up_array([0,4,2]), [0,4,3])\n",
        "assert_equals(up_array([4,3,2,5]), [4,3,2,6])\n",
        "assert_equals(up_array([1,2,3,9]), [1,2,4,0])\n",
        "assert_equals(up_array([9,9,9,9]), [1,0,0,0,0])\n",
        "assert_equals(up_array([0,1,3,7]), [0,1,3,8])\n",
        "assert_equals(up_array([1,-9]), None)"
      ]
    },
    {
      "cell_type": "markdown",
      "metadata": {
        "id": "cQMV4O9ynPr6"
      },
      "source": [
        "Pyramid Array\n",
        "\n",
        "Write a function that when given a number >= 0, returns an Array of ascending length subarrays.\n",
        "\n",
        "pyramid(0) => [ ]\n",
        "\n",
        "pyramid(1) => [ [1] ]\n",
        "\n",
        "pyramid(2) => [ [1], [1, 1] ]\n",
        "\n",
        "pyramid(3) => [ [1], [1, 1], [1, 1, 1] ]\n",
        "\n",
        "\n",
        "Note: the subarrays should be filled with 1s"
      ]
    },
    {
      "cell_type": "code",
      "execution_count": null,
      "metadata": {
        "id": "pzJFzn2snPr7"
      },
      "outputs": [],
      "source": [
        "def pyramid(n):\n",
        "    return [[1] * i for i in range(1, n + 1)]\n",
        "\n",
        "assert_equals(pyramid(0), [])\n",
        "assert_equals(pyramid(1), [[1]])\n",
        "assert_equals(pyramid(2), [[1], [1, 1]])\n",
        "assert_equals(pyramid(3), [[1], [1, 1], [1, 1, 1]])"
      ]
    },
    {
      "cell_type": "markdown",
      "metadata": {
        "id": "O_G7s8lKnPr7"
      },
      "source": [
        "# [Fold an array](https://www.codewars.com/kata/57ea70aa5500adfe8a000110)\n",
        "\n",
        "In this kata you have to write a method that folds a given array of integers by the middle x-times.\n",
        "\n",
        "An example says more than thousand words:\n",
        "\n",
        "Fold 1-times:\n",
        "\n",
        "[1,2,3,4,5] -> [6,6,3]\n",
        "\n",
        "A little visualization (NOT for the algorithm but for the idea of folding):\n",
        "\n",
        "```\n",
        " Step 1         Step 2        Step 3       Step 4       Step5\n",
        "                     5/           5|         5\\          \n",
        "                    4/            4|          4\\      \n",
        "1 2 3 4 5      1 2 3/         1 2 3|       1 2 3\\       6 6 3\n",
        "----*----      ----*          ----*        ----*        ----*\n",
        "\n",
        "```\n",
        "\n",
        "Fold 2-times:\n",
        "\n",
        "[1,2,3,4,5] -> [9,6]\n",
        "\n",
        "As you see, if the count of numbers is odd, the middle number will stay. Otherwise the fold-point is between the middle-numbers, so all numbers would be added in a way.\n",
        "\n",
        "The array will always contain numbers and will never be null. The parameter runs will always be a positive integer greater than 0 and says how many runs of folding your method has to do.\n",
        "\n",
        "If an array with one element is folded, it stays as the same array.\n",
        "\n",
        "The input array should not be modified!"
      ]
    },
    {
      "cell_type": "code",
      "execution_count": null,
      "metadata": {
        "id": "1fYW1wuJnPr7"
      },
      "outputs": [],
      "source": [
        "def fold_array(a, runs):\n",
        "\n",
        "    center = len(a) // 2\n",
        "    left_fold = a[:center] + [0]\n",
        "    right_fold = a[center:][::-1]\n",
        "    new_a = [sum(pair) for pair in zip(left_fold, right_fold)]\n",
        "\n",
        "    return fold_array(new_a, runs - 1) if runs > 1 else new_a\n",
        "\n",
        "\n",
        "sample_test_cases = [\n",
        "    #             array     runs    expected\n",
        "    (       [1, 2, 3, 4, 5],  1,    [6, 6, 3]),\n",
        "    (       [1, 2, 3, 4, 5],  2,    [9, 6]),\n",
        "    (       [1, 2, 3, 4, 5],  3,    [15]),\n",
        "    ([-9, 9, -8, 8, 66, 23],  1,    [14, 75, 0]),\n",
        "]\n",
        "\n",
        "for s in sample_test_cases:\n",
        "    assert_equals(fold_array(s[0], s[1]), s[2])"
      ]
    },
    {
      "cell_type": "markdown",
      "metadata": {
        "id": "w4OQ5GxlnPr7"
      },
      "source": [
        "# [Validate Credit Card Number](https://www.codewars.com/kata/5418a1dd6d8216e18a0012b2/train/python)\n",
        "\n",
        "In this Kata, you will implement the Luhn Algorithm, which is used to help validate credit card numbers.\n",
        "\n",
        "Given a positive integer of up to 16 digits, return true if it is a valid credit card number, and false if it is not.\n",
        "\n",
        "Here is the algorithm:\n",
        "\n",
        "Double every other digit, scanning from right to left, starting from the second digit (from the right).\n",
        "\n",
        "Another way to think about it is: if there are an even number of digits, double every other digit starting with the first; if there are an odd number of digits, double every other digit starting with the second:\n",
        "\n",
        "1714 ==> [1*, 7, 1*, 4] ==> [2, 7, 2, 4]\n",
        "\n",
        "12345 ==> [1, 2*, 3, 4*, 5] ==> [1, 4, 3, 8, 5]\n",
        "\n",
        "891 ==> [8, 9*, 1] ==> [8, 18, 1]\n",
        "If a resulting number is greater than 9, replace it with the sum of its own digits (which is the same as subtracting 9 from it):\n",
        "\n",
        "[8, 18*, 1] ==> [8, (1+8), 1] ==> [8, 9, 1]\n",
        "\n",
        "or:\n",
        "\n",
        "[8, 18*, 1] ==> [8, (18-9), 1] ==> [8, 9, 1]\n",
        "Sum all of the final digits:\n",
        "\n",
        "[8, 9, 1] ==> 8 + 9 + 1 = 18\n",
        "Finally, take that sum and divide it by 10. If the remainder equals zero, the original credit card number is valid.\n",
        "\n",
        "18 (modulus) 10 ==> 8 , which is not equal to 0, so this is not a valid credit card number"
      ]
    },
    {
      "cell_type": "code",
      "execution_count": null,
      "metadata": {
        "id": "Pw5d6u0DnPr8"
      },
      "outputs": [],
      "source": [
        "\n",
        "def validate(n):\n",
        "    n = list(map(int, str(n)))\n",
        "    is_odd = len(n) % 2\n",
        "\n",
        "    for i in range(is_odd, len(n), 2):\n",
        "        num = n[i]\n",
        "        new_num = num * 2 + (-9 if num > 4 else 0)\n",
        "        n[i] = new_num\n",
        "\n",
        "    return sum(n) % 10 == 0\n",
        "\n",
        "def validate(n):\n",
        "    n = str(n)\n",
        "    doubling_index = len(n) % 2\n",
        "    total = 0\n",
        "\n",
        "    for i, v in enumerate(n):\n",
        "        new_num = int(v)\n",
        "\n",
        "        if i == doubling_index:\n",
        "            new_num = new_num * 2\n",
        "            doubling_index += 2\n",
        "\n",
        "            if new_num > 9:\n",
        "                new_num -= 9\n",
        "\n",
        "        total += new_num\n",
        "\n",
        "    return total % 10 == 0\n",
        "\n",
        "assert_equals(validate(1714), False)\n",
        "assert_equals(validate(12345), False)\n",
        "assert_equals(validate(891), False)\n",
        "assert_equals(validate(123), False)\n",
        "assert_equals(validate(1), False)\n",
        "assert_equals(validate(2121), True)\n",
        "assert_equals(validate(1230), True)"
      ]
    },
    {
      "cell_type": "markdown",
      "metadata": {
        "id": "aKIPigmUnPr8"
      },
      "source": [
        "# [Playing with passphrases](https://www.codewars.com/kata/559536379512a64472000053/train/ruby)\n",
        "\n",
        "Everyone knows passphrases. One can choose passphrases from poems, songs, movies names and so on but frequently they can be guessed due to common cultural references. You can get your passphrases stronger by different means. One is the following:\n",
        "\n",
        "choose a text in capital letters including or not digits and non alphabetic characters,\n",
        "\n",
        "shift each letter by a given number but the transformed letter must be a letter (circular shift),\n",
        "\n",
        "replace each digit by its complement to 9,\n",
        "\n",
        "keep such as non alphabetic and non digit characters,\n",
        "\n",
        "downcase each letter in odd position, upcase each letter in even position (the first character is in position 0),\n",
        "\n",
        "reverse the whole result.\n",
        "\n",
        "Example:\n",
        "\n",
        "your text: \"BORN IN 2015!\", shift 1\n",
        "\n",
        "1 + 2 + 3 -> \"CPSO JO 7984!\"\n",
        "\n",
        "4 \"CpSo jO 7984!\"\n",
        "\n",
        "5 \"!4897 Oj oSpC\""
      ]
    },
    {
      "cell_type": "code",
      "execution_count": null,
      "metadata": {
        "id": "os98-4X7nPr8"
      },
      "outputs": [],
      "source": [
        "from string import ascii_lowercase\n",
        "\n",
        "def play_pass(s, n):\n",
        "    new_s = \"\"\n",
        "    for i, char in enumerate(s):\n",
        "        if char.isalpha():\n",
        "            new_char_index = ascii_lowercase.index(char.lower()) + n\n",
        "            if new_char_index > 25:\n",
        "                new_char_index -= 26\n",
        "            char = ascii_lowercase[new_char_index]\n",
        "            char = char.upper() if i % 2 == 0 else char.lower()\n",
        "\n",
        "        elif char.isdigit():\n",
        "            char = str(9 - int(char))\n",
        "        new_s += char\n",
        "\n",
        "    return new_s[::-1]\n",
        "\n",
        "assert_equals(play_pass(\"I LOVE YOU!!!\", 1), \"!!!vPz fWpM J\")\n",
        "\n",
        "assert_equals(play_pass(\"MY GRANMA CAME FROM NY ON THE 23RD OF APRIL 2015\", 2),\n",
        "    \"4897 NkTrC Hq fT67 GjV Pq aP OqTh gOcE CoPcTi aO\")"
      ]
    },
    {
      "cell_type": "markdown",
      "metadata": {
        "id": "VyO6oyoknPr8"
      },
      "source": [
        "# Update the table\n",
        "\n",
        "![image.png](attachment:image.png)\n",
        "![image-2.png](attachment:image-2.png)"
      ]
    },
    {
      "cell_type": "code",
      "execution_count": null,
      "metadata": {
        "id": "QVFzPcwrnPr8"
      },
      "outputs": [],
      "source": [
        "VALIDATOR_INPUT = '''\"bot_id\",\"address\"\n",
        "133,\"20.191.45.212/32\"\n",
        "133,\"50.16.241.114/32\"\n",
        "133,\"23.21.227.69/32\"\n",
        "133,\"50.16.241.117/32\"\n",
        "133,\"40.88.21.235/32\"\n",
        "133,\"50.16.241.113/32\"\n",
        "133,\"52.204.97.54/32\"\n",
        "133,\"50.16.247.234/32\"\n",
        "133,\"54.208.102.37/32\"\n",
        "133,\"52.5.190.21/32\"\n",
        "133,\"54.197.234.188/32\"\n",
        "133,\"107.21.1.3/32\"\n",
        "133,\"54.208.100.253/32\"\n",
        "52,\"123.125.71.109/32\"\n",
        "52,\"116.179.37.247/32\"\n",
        "52,\"220.181.108.102/32\"\n",
        "52,\"116.179.32.119/32\"\n",
        "52,\"116.179.32.46/32\"\n",
        "52,\"116.179.37.9/32\"\n",
        "52,\"180.76.15.139/32\"\n",
        "52,\"111.206.221.106/32\"\n",
        "52,\"220.181.108.107/32\"\n",
        "52,\"111.206.198.52/32\"\n",
        "52,\"116.179.37.198/32\"\n",
        "52,\"116.179.37.239/32\"\n",
        "52,\"180.76.15.135/32\"\n",
        "52,\"116.179.37.22/32\"\n",
        "52,\"111.206.198.75/32\"\n",
        "52,\"116.179.37.47/32\"\n",
        "52,\"123.125.71.21/32\"\n",
        "52,\"180.76.15.136/32\"\n",
        "52,\"111.206.221.11/32\"\n",
        "52,\"116.179.37.252/32\"\n",
        "52,\"116.179.37.8/32\"\n",
        "52,\"116.179.32.90/32\"\n",
        "52,\"116.179.32.75/32\"\n",
        "52,\"111.206.221.4/32\"\n",
        "52,\"116.179.32.97/32\"\n",
        "52,\"123.125.71.85/32\"\n",
        "52,\"111.206.198.15/32\"\n",
        "52,\"116.179.37.123/32\"\n",
        "52,\"111.206.221.68/32\"\n",
        "52,\"116.179.32.239/32\"\n",
        "52,\"180.76.15.34/32\"\n",
        "52,\"123.125.71.18/32\"\n",
        "52,\"116.179.32.223/32\"\n",
        "52,\"116.179.37.134/32\"\n",
        "52,\"116.179.37.86/32\"\n",
        "52,\"111.206.221.20/32\"\n",
        "52,\"220.181.108.111/32\"\n",
        "52,\"220.181.108.123/32\"\n",
        "52,\"220.181.108.155/32\"\n",
        "52,\"180.76.15.150/32\"\n",
        "52,\"116.179.37.158/32\"\n",
        "52,\"116.179.32.199/32\"\n",
        "52,\"116.179.37.112/32\"\n",
        "52,\"116.179.32.146/32\"\n",
        "52,\"180.76.15.151/32\"\n",
        "52,\"116.179.32.234/32\"\n",
        "52,\"116.179.32.215/32\"\n",
        "52,\"111.206.221.34/32\"\n",
        "52,\"116.179.37.67/32\"\n",
        "52,\"180.76.15.25/32\"\n",
        "52,\"220.181.108.171/32\"\n",
        "52,\"116.179.37.81/32\"\n",
        "52,\"180.76.15.23/32\"\n",
        "52,\"116.179.37.31/32\"\n",
        "52,\"116.179.32.87/32\"\n",
        "52,\"180.76.15.137/32\"\n",
        "52,\"123.125.71.43/32\"\n",
        "52,\"116.179.37.217/32\"\n",
        "52,\"180.76.15.152/32\"\n",
        "52,\"116.179.32.133/32\"\n",
        "52,\"116.179.32.221/32\"\n",
        "52,\"220.181.108.143/32\"\n",
        "52,\"116.179.37.171/32\"\n",
        "52,\"111.206.198.126/32\"\n",
        "52,\"116.179.37.78/32\"\n",
        "52,\"180.76.15.143/32\"\n",
        "52,\"123.125.71.98/32\"\n",
        "52,\"123.125.71.94/32\"\n",
        "52,\"123.125.71.70/32\"\n",
        "52,\"116.179.37.150/32\"\n",
        "52,\"123.125.71.20/32\"\n",
        "52,\"180.76.15.158/32\"\n",
        "52,\"111.206.221.76/32\"\n",
        "52,\"111.206.221.114/32\"\n",
        "52,\"116.179.37.0/32\"\n",
        "52,\"116.179.32.157/32\"\n",
        "52,\"220.181.108.116/32\"\n",
        "52,\"220.181.108.163/32\"\n",
        "52,\"116.179.37.114/32\"\n",
        "52,\"180.76.15.6/32\"\n",
        "52,\"116.179.32.54/32\"\n",
        "52,\"116.179.32.211/32\"\n",
        "52,\"111.206.198.6/32\"\n",
        "52,\"116.179.37.93/32\"\n",
        "52,\"116.179.32.95/32\"\n",
        "52,\"116.179.37.136/32\"\n",
        "52,\"111.206.221.72/32\"\n",
        "52,\"111.206.221.79/32\"\n",
        "52,\"111.206.221.18/32\"\n",
        "52,\"116.179.32.17/32\"\n",
        "52,\"111.206.198.94/32\"\n",
        "52,\"111.206.221.10/32\"\n",
        "52,\"116.179.37.91/32\"\n",
        "52,\"116.179.32.207/32\"\n",
        "52,\"180.76.15.134/32\"\n",
        "52,\"123.125.71.81/32\"\n",
        "52,\"111.206.198.53/32\"\n",
        "52,\"116.179.32.101/32\"\n",
        "52,\"123.125.71.105/32\"\n",
        "52,\"116.179.32.248/32\"\n",
        "'''\n",
        "\n",
        "CURRENT_STATE='''\"id\",\"bot_id\",\"address\",\"created_at\",\"updated_at\",\"deleted_at\"\n",
        "272747,133,\"20.191.45.212/32\",\"2021-05-03 19:38:32.502171+00\",\"2021-09-15 15:55:45.463072+00\",\n",
        "29172,133,\"50.16.241.114/32\",\"2019-08-27 22:38:08.081476+00\",\"2021-09-15 15:55:45.463074+00\",\n",
        "29177,133,\"23.21.227.69/32\",\"2019-08-27 22:38:08.081476+00\",\"2021-09-15 15:55:45.463073+00\",\n",
        "29178,133,\"50.16.241.117/32\",\"2019-08-27 22:38:08.081476+00\",\"2021-09-15 15:55:45.463075+00\",\n",
        "148244,133,\"40.88.21.235/32\",\"2020-04-16 23:52:27.942766+00\",\"2021-09-15 15:55:45.463073+00\",\n",
        "29171,133,\"50.16.241.113/32\",\"2019-08-27 22:38:08.081476+00\",\"2021-09-15 15:55:45.463074+00\",\n",
        "29174,133,\"52.204.97.54/32\",\"2019-08-27 22:38:08.081476+00\",\"2021-09-15 15:55:45.463076+00\",\n",
        "29173,133,\"50.16.247.234/32\",\"2019-08-27 22:38:08.081476+00\",\"2021-09-15 15:55:45.463075+00\",\n",
        "84993,133,\"54.208.102.37/32\",\"2019-11-15 22:50:49.517137+00\",\"2021-09-15 15:55:45.463077+00\",\n",
        "29175,133,\"52.5.190.19/32\",\"2019-08-27 22:38:08.081476+00\",\"2021-09-15 15:55:45.463076+00\",\n",
        "29176,133,\"54.197.234.188/32\",\"2019-08-27 22:38:08.081476+00\",\"2021-09-15 15:55:45.463077+00\",\n",
        "84994,133,\"107.21.1.8/32\",\"2019-11-15 22:50:49.517137+00\",\"2021-09-15 15:55:45.463078+00\",\n",
        "29179,133,\"54.208.100.253/32\",\"2019-08-27 22:38:08.081476+00\",\"2021-09-15 15:55:45.463077+00\",\n",
        "6368,52,\"123.125.71.109/32\",\"2019-08-14 21:37:35.58665+00\",\"2021-09-16 04:01:50.125878+00\",\n",
        "263728,52,\"116.179.37.247/32\",\"2021-04-08 23:59:17.495196+00\",\"2021-09-16 04:00:12.605532+00\",\n",
        "6466,52,\"220.181.108.102/32\",\"2019-08-14 21:37:35.58665+00\",\"2021-09-16 03:59:31.217762+00\",\n",
        "149950,52,\"116.179.32.119/32\",\"2020-05-07 18:04:21.301992+00\",\"2021-09-16 04:01:48.370977+00\",\n",
        "145427,52,\"116.179.32.46/32\",\"2020-03-27 06:42:12.812022+00\",\"2021-09-16 04:00:52.15177+00\",\n",
        "263741,52,\"116.179.37.9/32\",\"2021-04-08 23:59:17.495196+00\",\"2021-09-16 04:01:22.703607+00\",\n",
        "6232,52,\"180.76.15.139/32\",\"2019-08-14 21:37:35.58665+00\",\"2021-09-16 04:01:06.410831+00\",\n",
        "6320,52,\"111.206.221.106/32\",\"2019-08-14 21:37:35.58665+00\",\"2021-09-16 04:00:26.176573+00\",\n",
        "6513,52,\"220.181.108.107/32\",\"2019-08-14 21:37:35.58665+00\",\"2021-09-16 04:00:55.96909+00\",\n",
        "54178,52,\"111.206.198.52/32\",\"2019-09-25 14:40:32.265589+00\",\"2021-09-16 16:07:25.277752+00\",\n",
        "263773,52,\"116.179.37.198/32\",\"2021-04-08 23:59:17.495196+00\",\"2021-09-16 04:01:05.658682+00\",\n",
        "263769,52,\"116.179.37.239/32\",\"2021-04-08 23:59:17.495196+00\",\"2021-09-16 16:07:32.266215+00\",\n",
        "6212,52,\"180.76.15.135/32\",\"2019-08-14 21:37:35.58665+00\",\"2021-09-16 04:01:03.803624+00\",\n",
        "263737,52,\"116.179.37.22/32\",\"2021-04-08 23:59:17.495196+00\",\"2021-09-16 16:07:30.588774+00\",\n",
        "54126,52,\"111.206.198.75/32\",\"2019-09-25 13:34:24.457667+00\",\"2021-09-16 04:00:49.472435+00\",\n",
        "263636,52,\"116.179.37.47/32\",\"2021-04-08 23:59:17.495196+00\",\"2021-09-16 04:01:27.14194+00\",\n",
        "6452,52,\"123.125.71.21/32\",\"2019-08-14 21:37:35.58665+00\",\"2021-09-16 04:01:45.174752+00\",\n",
        "6312,52,\"180.76.15.136/32\",\"2019-08-14 21:37:35.58665+00\",\"2021-09-16 04:01:22.64847+00\",\n",
        "6408,52,\"111.206.221.11/32\",\"2019-08-14 21:37:35.58665+00\",\"2021-09-16 16:07:44.795285+00\",\n",
        "263595,52,\"116.179.37.252/32\",\"2021-04-08 23:59:17.495196+00\",\"2021-09-16 16:07:45.80357+00\",\n",
        "263649,52,\"116.179.37.8/32\",\"2021-04-08 23:59:17.495196+00\",\"2021-09-16 04:01:43.899177+00\",\n",
        "144908,52,\"116.179.32.90/32\",\"2020-03-26 10:33:13.76704+00\",\"2021-09-16 16:07:52.028348+00\",\n",
        "144906,52,\"116.179.32.75/32\",\"2020-03-26 10:33:13.76704+00\",\"2021-09-16 04:00:04.271396+00\",\n",
        "6464,52,\"111.206.221.4/32\",\"2019-08-14 21:37:35.58665+00\",\"2021-09-16 04:00:58.080085+00\",\n",
        "145010,52,\"116.179.32.97/32\",\"2020-03-27 00:28:12.7104+00\",\"2021-09-16 16:07:23.425877+00\",\n",
        "6519,52,\"123.125.71.85/32\",\"2019-08-14 21:37:35.58665+00\",\"2021-09-16 04:01:48.682838+00\",\n",
        "53546,52,\"111.206.198.15/32\",\"2019-09-25 03:45:11.687293+00\",\"2021-09-16 04:01:29.982874+00\",\n",
        "263758,52,\"116.179.37.123/32\",\"2021-04-08 23:59:17.495196+00\",\"2021-09-16 16:07:15.479248+00\",\n",
        "6418,52,\"111.206.221.68/32\",\"2019-08-14 21:37:35.58665+00\",\"2021-09-16 04:01:18.58223+00\",\n",
        "145458,52,\"116.179.32.239/32\",\"2020-03-27 06:42:12.812022+00\",\"2021-09-16 04:01:22.281878+00\",\n",
        "6486,52,\"180.76.15.34/32\",\"2019-08-14 21:37:35.58665+00\",\"2021-09-16 04:01:48.147919+00\",\n",
        "6208,52,\"123.125.71.18/32\",\"2019-08-14 21:37:35.58665+00\",\"2021-09-16 04:01:28.845323+00\",\n",
        "145002,52,\"116.179.32.223/32\",\"2020-03-26 22:29:15.978035+00\",\"2021-09-16 03:59:25.783465+00\",\n",
        "263608,52,\"116.179.37.134/32\",\"2021-04-08 23:59:17.495196+00\",\"2021-09-16 16:07:11.762382+00\",\n",
        "263625,52,\"116.179.37.86/32\",\"2021-04-08 23:59:17.495196+00\",\"2021-09-16 03:59:48.028962+00\",\n",
        "6224,52,\"111.206.221.20/32\",\"2019-08-14 21:37:35.58665+00\",\"2021-09-16 16:07:52.971673+00\",\n",
        "6225,52,\"220.181.108.111/32\",\"2019-08-14 21:37:35.58665+00\",\"2021-09-16 03:59:42.573845+00\",\n",
        "6275,52,\"220.181.108.123/32\",\"2019-08-14 21:37:35.58665+00\",\"2021-09-16 16:07:09.394586+00\",\n",
        "6370,52,\"220.181.108.155/32\",\"2019-08-14 21:37:35.58665+00\",\"2021-09-16 16:07:39.429889+00\",\n",
        "6510,52,\"180.76.15.150/32\",\"2019-08-14 21:37:35.58665+00\",\"2021-09-16 04:01:26.655642+00\",\n",
        "263730,52,\"116.179.37.158/32\",\"2021-04-08 23:59:17.495196+00\",\"2021-09-16 03:59:38.194006+00\",\n",
        "145466,52,\"116.179.32.199/32\",\"2020-03-27 06:42:12.812022+00\",\"2021-09-16 03:59:22.008073+00\",\n",
        "263709,52,\"116.179.37.112/32\",\"2021-04-08 23:59:17.495196+00\",\"2021-09-16 16:06:58.503122+00\",\n",
        "145447,52,\"116.179.32.146/32\",\"2020-03-27 06:42:12.812022+00\",\"2021-09-16 04:00:59.091437+00\",\n",
        "6503,52,\"180.76.15.151/32\",\"2019-08-14 21:37:35.58665+00\",\"2021-09-16 04:01:20.175004+00\",\n",
        "145442,52,\"116.179.32.234/32\",\"2020-03-27 06:42:12.812022+00\",\"2021-09-16 03:59:58.88984+00\",\n",
        "145478,52,\"116.179.32.215/32\",\"2020-03-27 07:42:03.399819+00\",\"2021-09-16 16:08:09.509629+00\",\n",
        "6509,52,\"111.206.221.34/32\",\"2019-08-14 21:37:35.58665+00\",\"2021-09-16 04:01:01.269051+00\",\n",
        "265658,52,\"116.179.37.67/32\",\"2021-04-22 14:51:47.09902+00\",\"2021-09-16 03:59:45.225599+00\",\n",
        "6207,52,\"180.76.15.25/32\",\"2019-08-14 21:37:35.58665+00\",\"2021-09-16 04:01:26.968182+00\",\n",
        "6204,52,\"220.181.108.171/32\",\"2019-08-14 21:37:35.58665+00\",\"2021-09-16 16:07:41.465058+00\",\n",
        "263594,52,\"116.179.37.81/32\",\"2021-04-08 23:59:17.495196+00\",\"2021-09-16 04:00:02.298895+00\",\n",
        "6335,52,\"180.76.15.23/32\",\"2019-08-14 21:37:35.58665+00\",\"2021-09-16 04:01:20.557141+00\",\n",
        "263764,52,\"116.179.37.31/32\",\"2021-04-08 23:59:17.495196+00\",\"2021-09-16 16:07:59.226497+00\",\n",
        "144864,52,\"116.179.32.87/32\",\"2020-03-26 07:33:32.952016+00\",\"2021-09-16 03:59:42.947418+00\",\n",
        "6345,52,\"180.76.15.137/32\",\"2019-08-14 21:37:35.58665+00\",\"2021-09-16 04:01:16.993934+00\",\n",
        "6435,52,\"123.125.71.43/32\",\"2019-08-14 21:37:35.58665+00\",\"2021-09-16 04:01:45.549721+00\",\n",
        "263611,52,\"116.179.37.217/32\",\"2021-04-08 23:59:17.495196+00\",\"2021-09-16 04:00:54.19841+00\",\n",
        "6379,52,\"180.76.15.152/32\",\"2019-08-14 21:37:35.58665+00\",\"2021-09-16 04:01:00.569123+00\",\n",
        "144959,52,\"116.179.32.133/32\",\"2020-03-26 13:39:29.565388+00\",\"2021-09-16 03:59:25.425973+00\",\n",
        "145468,52,\"116.179.32.221/32\",\"2020-03-27 07:42:03.399819+00\",\"2021-09-16 16:07:51.530294+00\",\n",
        "6322,52,\"220.181.108.143/32\",\"2019-08-14 21:37:35.58665+00\",\"2021-09-16 04:00:50.934749+00\",\n",
        "263613,52,\"116.179.37.171/32\",\"2021-04-08 23:59:17.495196+00\",\"2021-09-16 03:59:22.87487+00\",\n",
        "53553,52,\"111.206.198.126/32\",\"2019-09-25 03:45:11.687293+00\",\"2021-09-16 16:07:01.094277+00\",\n",
        "263719,52,\"116.179.37.78/32\",\"2021-04-08 23:59:17.495196+00\",\"2021-09-16 16:07:04.299829+00\",\n",
        "6511,52,\"180.76.15.143/32\",\"2019-08-14 21:37:35.58665+00\",\"2021-09-16 04:01:13.145761+00\",\n",
        "6244,52,\"123.125.71.98/32\",\"2019-08-14 21:37:35.58665+00\",\"2021-09-16 04:01:42.522799+00\",\n",
        "6294,52,\"123.125.71.94/32\",\"2019-08-14 21:37:35.58665+00\",\"2021-09-16 04:01:13.136953+00\",\n",
        "6369,52,\"123.125.71.70/32\",\"2019-08-14 21:37:35.58665+00\",\"2021-09-16 04:01:11.295961+00\",\n",
        "263654,52,\"116.179.37.150/32\",\"2021-04-08 23:59:17.495196+00\",\"2021-09-16 03:59:07.969996+00\",\n",
        "6386,52,\"123.125.71.20/32\",\"2019-08-14 21:37:35.58665+00\",\"2021-09-16 04:01:33.207907+00\",\n",
        "6211,52,\"180.76.15.158/32\",\"2019-08-14 21:37:35.58665+00\",\"2021-09-16 04:01:50.071321+00\",\n",
        "6364,52,\"111.206.221.76/32\",\"2019-08-14 21:37:35.58665+00\",\"2021-09-16 04:01:00.313004+00\",\n",
        "6344,52,\"111.206.221.114/32\",\"2019-08-14 21:37:35.58665+00\",\"2021-09-16 16:07:49.759128+00\",\n",
        "265278,52,\"116.179.37.0/32\",\"2021-04-16 07:48:59.138824+00\",\"2021-09-16 03:59:29.045004+00\",\n",
        "144911,52,\"116.179.32.157/32\",\"2020-03-26 10:33:13.76704+00\",\"2021-09-16 16:07:50.395357+00\",\n",
        "6349,52,\"220.181.108.116/32\",\"2019-08-14 21:37:35.58665+00\",\"2021-09-16 04:01:48.430078+00\",\n",
        "6524,52,\"220.181.108.163/32\",\"2019-08-14 21:37:35.58665+00\",\"2021-09-16 16:07:43.435179+00\",\n",
        "263694,52,\"116.179.37.114/32\",\"2021-04-08 23:59:17.495196+00\",\"2021-09-16 16:06:58.395376+00\",\n",
        "6387,52,\"180.76.15.6/32\",\"2019-08-14 21:37:35.58665+00\",\"2021-09-16 04:01:42.525668+00\",\n",
        "164478,52,\"116.179.32.54/32\",\"2020-06-22 10:06:15.226705+00\",\"2021-09-16 04:00:57.114927+00\",\n",
        "145473,52,\"116.179.32.211/32\",\"2020-03-27 07:42:03.399819+00\",\"2021-09-16 03:59:01.134972+00\",\n",
        "54167,52,\"111.206.198.6/32\",\"2019-09-25 14:40:32.265589+00\",\"2021-09-16 16:07:28.814143+00\",\n",
        "265657,52,\"116.179.37.93/32\",\"2021-04-22 14:51:47.09902+00\",\"2021-09-16 04:00:19.222927+00\",\n",
        "145482,52,\"116.179.32.95/32\",\"2020-03-27 07:42:03.399819+00\",\"2021-09-16 04:00:16.840489+00\",\n",
        "263766,52,\"116.179.37.136/32\",\"2021-04-08 23:59:17.495196+00\",\"2021-09-16 03:59:01.695391+00\",\n",
        "6376,52,\"111.206.221.72/32\",\"2019-08-14 21:37:35.58665+00\",\"2021-09-16 16:07:22.409219+00\",\n",
        "6268,52,\"111.206.221.79/32\",\"2019-08-14 21:37:35.58665+00\",\"2021-09-16 04:00:52.437359+00\",\n",
        "6410,52,\"111.206.221.18/32\",\"2019-08-14 21:37:35.58665+00\",\"2021-09-16 04:00:32.273602+00\",\n",
        "144916,52,\"116.179.32.17/32\",\"2020-03-26 10:33:13.76704+00\",\"2021-09-16 04:01:02.973099+00\",\n",
        "54181,52,\"111.206.198.94/32\",\"2019-09-25 14:40:32.265589+00\",\"2021-09-16 04:01:14.825956+00\",\n",
        "6424,52,\"111.206.221.10/32\",\"2019-08-14 21:37:35.58665+00\",\"2021-09-16 16:07:01.340941+00\",\n",
        "265645,52,\"116.179.37.91/32\",\"2021-04-22 14:51:47.09902+00\",\"2021-09-16 03:59:25.666062+00\",\n",
        "144940,52,\"116.179.32.207/32\",\"2020-03-26 12:40:15.486431+00\",\"2021-09-16 04:01:32.143586+00\",\n",
        "6270,52,\"180.76.15.134/32\",\"2019-08-14 21:37:35.58665+00\",\"2021-09-16 04:01:21.802264+00\",\n",
        "6241,52,\"123.125.71.81/32\",\"2019-08-14 21:37:35.58665+00\",\"2021-09-16 04:01:19.738146+00\",\n",
        "54184,52,\"111.206.198.53/32\",\"2019-09-25 14:40:32.265589+00\",\"2021-09-16 04:01:25.028758+00\",\n",
        "145464,52,\"116.179.32.101/32\",\"2020-03-27 06:42:12.812022+00\",\"2021-09-16 16:07:22.182629+00\",\n",
        "6396,52,\"123.125.71.105/32\",\"2019-08-14 21:37:35.58665+00\",\"2021-09-16 04:01:26.269268+00\",\n",
        "149957,52,\"116.179.32.248/32\",\"2020-05-07 18:04:21.301992+00\",\"2021-09-16 04:01:14.850149+00\",\n",
        "'''"
      ]
    },
    {
      "cell_type": "markdown",
      "metadata": {
        "id": "2S7UG551nPr9"
      },
      "source": [
        "## My 1st Solution"
      ]
    },
    {
      "cell_type": "code",
      "execution_count": null,
      "metadata": {
        "id": "zdd5B-MqnPr-",
        "outputId": "d5fcda9d-cfc3-4448-f09c-fe4b4d3bcf0c"
      },
      "outputs": [
        {
          "name": "stdout",
          "output_type": "stream",
          "text": [
            "1.02 ms ± 13.7 µs per loop (mean ± std. dev. of 7 runs, 1,000 loops each)\n"
          ]
        }
      ],
      "source": [
        "%%timeit\n",
        "\n",
        "import datetime\n",
        "\n",
        "validator_bot_ids, validator_addresses = [], []\n",
        "for r in VALIDATOR_INPUT.strip().split(\"\\n\")[1:]:\n",
        "    bot_id, address = r.split(\",\")\n",
        "    validator_bot_ids.append(int(bot_id))\n",
        "    validator_addresses.append(address.strip())\n",
        "\n",
        "current_bot_ids, current_addresses = [], []\n",
        "for r in CURRENT_STATE.strip().split(\"\\n\")[1:]:\n",
        "    _, bot_id, address, _, _, _ = r.split(\",\")\n",
        "    current_bot_ids.append(int(bot_id))\n",
        "    current_addresses.append(address.strip())\n",
        "\n",
        "\n",
        "\n",
        "all_addresses = set(current_addresses) | set(validator_addresses)\n",
        "output = []\n",
        "\n",
        "for i, a in enumerate(all_addresses, 1):\n",
        "    if a in current_addresses and a not in validator_addresses:\n",
        "        status = \"DELETE\"\n",
        "        bot_id = current_bot_ids[current_addresses.index(a)]\n",
        "    elif a in current_addresses and a in validator_addresses:\n",
        "        status = \"UPDATE\"\n",
        "        bot_id = current_bot_ids[current_addresses.index(a)]\n",
        "    elif a not in current_addresses and a in validator_addresses:\n",
        "        status = \"CREATE\"\n",
        "        bot_id = validator_bot_ids[validator_addresses.index(a)]\n",
        "\n",
        "\n",
        "    output.append(dict(\n",
        "        id=i,\n",
        "        bot_id=bot_id,\n",
        "        address=a,\n",
        "        status=status,\n",
        "        updated_at=str(datetime.datetime.now())\n",
        "    ))"
      ]
    },
    {
      "cell_type": "markdown",
      "metadata": {
        "id": "TrL2sSFhnPr-"
      },
      "source": [
        "## 2nd Solution"
      ]
    },
    {
      "cell_type": "code",
      "execution_count": null,
      "metadata": {
        "id": "yn_-tSmWnPr-",
        "outputId": "d37979aa-c8d4-405c-e3b5-80c7af0fe00c"
      },
      "outputs": [
        {
          "name": "stdout",
          "output_type": "stream",
          "text": [
            "989 µs ± 32.8 µs per loop (mean ± std. dev. of 7 runs, 1,000 loops each)\n"
          ]
        }
      ],
      "source": [
        "%%timeit\n",
        "\n",
        "import datetime\n",
        "\n",
        "validator_bot_ids, validator_addresses = [], []\n",
        "for row in VALIDATOR_INPUT.strip().split(\"\\n\")[1:]:\n",
        "    bot_id, address = row.split(\",\")\n",
        "    validator_bot_ids.append(int(bot_id))\n",
        "    validator_addresses.append(address.strip())\n",
        "\n",
        "output = []\n",
        "current_addresses = []\n",
        "max_id = -1\n",
        "\n",
        "for row in CURRENT_STATE.strip().split(\"\\n\")[1:]:\n",
        "    id_, bot_id, address, _, _, deleted_at = row.split(\",\")\n",
        "    address = address.strip()\n",
        "    id_ = int(id_)\n",
        "\n",
        "    if id_ > max_id:\n",
        "        max_id = id_\n",
        "\n",
        "    output.append(\n",
        "        dict(\n",
        "            id=id_,\n",
        "            bot_id=int(bot_id),\n",
        "            address=address,\n",
        "            status=\"UPDATED\" if address in validator_addresses else \"DELETED\",\n",
        "            updated_at=str(datetime.datetime.now()) if address in validator_addresses else deleted_at,\n",
        "        )\n",
        "    )\n",
        "\n",
        "    current_addresses.append(address)\n",
        "\n",
        "current_addresses = set(current_addresses)\n",
        "\n",
        "for bot_id, address in zip(validator_bot_ids, validator_addresses):\n",
        "    max_id += 1\n",
        "    output.append(\n",
        "        dict(\n",
        "            id=max_id,\n",
        "            bot_id=bot_id,\n",
        "            address=address,\n",
        "            status=\"UPDATED\" if address in current_addresses else \"CREATED\",\n",
        "            updated_at=str(datetime.datetime.now()),\n",
        "        )\n",
        "    )\n",
        "\n",
        "    # current_bot_ids.append(int(bot_id))\n",
        "    # current_addresses.append(address.strip())"
      ]
    },
    {
      "cell_type": "code",
      "execution_count": null,
      "metadata": {
        "id": "_KRLv9aknPr-",
        "outputId": "67b96299-2dde-4d9a-aa94-7e4731386681"
      },
      "outputs": [
        {
          "name": "stdout",
          "output_type": "stream",
          "text": [
            "<class 'pandas.core.frame.DataFrame'>\n",
            "Int64Index: 224 entries, 0 to 112\n",
            "Data columns (total 6 columns):\n",
            " #   Column      Non-Null Count  Dtype         \n",
            "---  ------      --------------  -----         \n",
            " 0   id          224 non-null    float64       \n",
            " 1   bot_id      224 non-null    int64         \n",
            " 2   address     224 non-null    object        \n",
            " 3   created_at  224 non-null    object        \n",
            " 4   updated_at  113 non-null    object        \n",
            " 5   deleted_at  0 non-null      datetime64[ns]\n",
            "dtypes: datetime64[ns](1), float64(1), int64(1), object(3)\n",
            "memory usage: 12.2+ KB\n"
          ]
        }
      ],
      "source": [
        "# %%timeit\n",
        "\n",
        "import pandas as pd\n",
        "from io import StringIO\n",
        "import numpy as np\n",
        "\n",
        "df_current = (\n",
        "    pd.read_csv(StringIO(CURRENT_STATE), parse_dates=[\"created_at\", \"updated_at\", \"deleted_at\"])\n",
        "    .assign(address=lambda df: df.address.str.strip())\n",
        ")\n",
        "# df_current.info()\n",
        "max_id = df_current.id.max()\n",
        "\n",
        "current_ts = pd.Timestamp.now()\n",
        "\n",
        "df_validator = (\n",
        "    pd.read_csv(StringIO(VALIDATOR_INPUT))\n",
        "    .assign(address=lambda df: df.address.str.strip())\n",
        "    .assign(created_at=lambda df: np.where(df.address.isin(df_current.address), current_ts, np.nan))\n",
        "    # .reindex(columns=df_current.dtypes.to_dict())\n",
        ")\n",
        "\n",
        "df_validator.loc[lambda df: df.created_at.notna(), \"id\"] = range(max_id + 1, max_id + df_validator.created_at.notna().sum() + 1)\n",
        "\n",
        "# df_validator.info()\n",
        "\n",
        "# deleted\n",
        "df_current.loc[lambda df: ~df.address.isin(df_validator.address) & ~df.bot_id.isin(df_validator.bot_id), \"deleted_at\"] = current_ts\n",
        "# updated\n",
        "df_current.loc[lambda df: df.address.isin(df_validator.address) & df.bot_id.isin(df_validator.bot_id), [\"updated_at\", \"deleted_at\"]] = current_ts, np.nan\n",
        "# created\n",
        "df_current = pd.concat([df_current, df_validator.loc[lambda df: df.created_at.notna()]])\n",
        "\n",
        "df_current.to_dict(\"records\")\n",
        "df_current.info()"
      ]
    },
    {
      "cell_type": "code",
      "execution_count": null,
      "metadata": {
        "id": "4siU7CcpnPr_"
      },
      "outputs": [],
      "source": []
    },
    {
      "cell_type": "code",
      "execution_count": null,
      "metadata": {
        "id": "FgLdI09MnPr_",
        "outputId": "a2d7ab38-f37e-41a6-972b-93f3859a6a9d"
      },
      "outputs": [
        {
          "name": "stdout",
          "output_type": "stream",
          "text": [
            "id <class 'numpy.dtype[int64]'>\n",
            "bot_id <class 'numpy.dtype[int64]'>\n",
            "address <class 'numpy.dtype[object_]'>\n",
            "created_at <class 'pandas.core.dtypes.dtypes.DatetimeTZDtype'>\n",
            "updated_at <class 'pandas.core.dtypes.dtypes.DatetimeTZDtype'>\n",
            "deleted_at <class 'numpy.dtype[datetime64]'>\n",
            "id                          int64\n",
            "bot_id                      int64\n",
            "address                    object\n",
            "created_at    datetime64[ns, UTC]\n",
            "updated_at    datetime64[ns, UTC]\n",
            "deleted_at         datetime64[ns]\n",
            "dtype: object\n",
            "id                        float64\n",
            "bot_id                      int64\n",
            "address                    object\n",
            "created_at    datetime64[ns, UTC]\n",
            "updated_at    datetime64[ns, UTC]\n",
            "deleted_at         datetime64[ns]\n",
            "dtype: object\n"
          ]
        },
        {
          "name": "stderr",
          "output_type": "stream",
          "text": [
            "/tmp/ipykernel_44896/512822334.py:18: FutureWarning: Using .astype to convert from timezone-naive dtype to timezone-aware dtype is deprecated and will raise in a future version.  Use ser.dt.tz_localize instead.\n",
            "  df_validator[k] = df_validator[k].astype(v)\n"
          ]
        },
        {
          "data": {
            "text/plain": [
              "False"
            ]
          },
          "execution_count": 168,
          "metadata": {},
          "output_type": "execute_result"
        }
      ],
      "source": [
        "# df_current = (\n",
        "#     pd.read_csv(StringIO(CURRENT_STATE), parse_dates=[\"created_at\", \"updated_at\", \"deleted_at\"])\n",
        "#     .assign(address=lambda df: df.address.str.strip())\n",
        "# )\n",
        "\n",
        "# df_validator = (\n",
        "#     pd.read_csv(StringIO(VALIDATOR_INPUT))\n",
        "#     .assign(address=lambda df: df.address.str.strip())\n",
        "#     .assign(created_at=lambda df: np.where(df.address.isin(df_current.address), current_ts, np.nan))\n",
        "#     # .reindex(columns=df_current.dtypes.to_dict())\n",
        "# )\n",
        "\n",
        "\n",
        "\n",
        "# for k, v in df_current.dtypes.to_dict().items():\n",
        "#     print(k, type(v))\n",
        "#     if k in df_validator.columns and not isinstance(df_validator[k], type(v)):\n",
        "#         df_validator[k] = df_validator[k].astype(v)\n",
        "#     else:\n",
        "#         df_validator[k] = pd.Series([], dtype=v)\n",
        "\n",
        "# df_validator = df_validator[df_current.columns]\n",
        "\n",
        "# print(df_current.dtypes)\n",
        "# print(df_validator.dtypes)\n",
        "# df_validator.dtypes.equals(df_current.dtypes)"
      ]
    }
  ],
  "metadata": {
    "kernelspec": {
      "display_name": "Python 3",
      "language": "python",
      "name": "python3"
    },
    "language_info": {
      "codemirror_mode": {
        "name": "ipython",
        "version": 3
      },
      "file_extension": ".py",
      "mimetype": "text/x-python",
      "name": "python",
      "nbconvert_exporter": "python",
      "pygments_lexer": "ipython3",
      "version": "3.10.8"
    },
    "orig_nbformat": 4,
    "colab": {
      "provenance": [],
      "include_colab_link": true
    }
  },
  "nbformat": 4,
  "nbformat_minor": 0
}
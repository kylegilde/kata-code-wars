{
  "nbformat": 4,
  "nbformat_minor": 0,
  "metadata": {
    "colab": {
      "provenance": [],
      "authorship_tag": "ABX9TyOoHTiHH16+M27vg+/iAPgi",
      "include_colab_link": true
    },
    "kernelspec": {
      "name": "python3",
      "display_name": "Python 3"
    },
    "language_info": {
      "name": "python"
    }
  },
  "cells": [
    {
      "cell_type": "markdown",
      "metadata": {
        "id": "view-in-github",
        "colab_type": "text"
      },
      "source": [
        "<a href=\"https://colab.research.google.com/github/kylegilde/kata-code-wars/blob/main/4kyu.ipynb\" target=\"_parent\"><img src=\"https://colab.research.google.com/assets/colab-badge.svg\" alt=\"Open In Colab\"/></a>"
      ]
    },
    {
      "cell_type": "code",
      "execution_count": 1,
      "metadata": {
        "id": "l9vqU8d_Sw1x"
      },
      "outputs": [],
      "source": [
        "def assert_equals(solution, ans, *args):\n",
        "    assert solution == ans, f\"{solution} should equal {ans}\\n{args}\""
      ]
    },
    {
      "cell_type": "markdown",
      "source": [
        "# Human readable duration format\n",
        "\n",
        "Your task in order to complete this Kata is to write a function which formats a duration, given as a number of seconds, in a human-friendly way.\n",
        "\n",
        "The function must accept a non-negative integer. If it is zero, it just returns \"now\". Otherwise, the duration is expressed as a combination of years, days, hours, minutes and seconds.\n",
        "\n",
        "It is much easier to understand with an example:\n",
        "\n",
        "* For seconds = 62, your function should return\n",
        "    \"1 minute and 2 seconds\"\n",
        "* For seconds = 3662, your function should return\n",
        "    \"1 hour, 1 minute and 2 seconds\"\n",
        "For the purpose of this Kata, a year is 365 days and a day is 24 hours.\n",
        "\n",
        "Note that spaces are important.\n",
        "\n",
        "Detailed rules\n",
        "\n",
        "\n",
        "The resulting expression is made of components like 4 seconds, 1 year, etc. In general, a positive integer and one of the valid units of time, separated by a space. The unit of time is used in plural if the integer is greater than 1.\n",
        "\n",
        "The components are separated by a comma and a space (\", \"). Except the last component, which is separated by \" and \", just like it would be written in English.\n",
        "\n",
        "A more significant units of time will occur before than a least significant one. Therefore, 1 second and 1 year is not correct, but 1 year and 1 second is.\n",
        "\n",
        "Different components have different unit of times. So there is not repeated units like in 5 seconds and 1 second.\n",
        "\n",
        "A component will not appear at all if its value happens to be zero. Hence, 1 minute and 0 seconds is not valid, but it should be just 1 minute.\n",
        "\n",
        "A unit of time must be used \"as much as possible\". It means that the function should not return 61 seconds, but 1 minute and 1 second instead. Formally, the duration specified by of a component must not be greater than any valid more significant unit of time."
      ],
      "metadata": {
        "id": "j6shNUPa_DtW"
      }
    },
    {
      "cell_type": "code",
      "source": [
        "def test():\n",
        "    assert_equals(format_duration(1), \"1 second\")\n",
        "    assert_equals(format_duration(62), \"1 minute and 2 seconds\")\n",
        "    assert_equals(format_duration(120), \"2 minutes\")\n",
        "    assert_equals(format_duration(3600), \"1 hour\")\n",
        "    assert_equals(format_duration(3662), \"1 hour, 1 minute and 2 seconds\")\n",
        "\n",
        "\n",
        "times = [(\"year\", 365 * 24 * 60 * 60),\n",
        "         (\"day\", 24 * 60 * 60),\n",
        "         (\"hour\", 60 * 60),\n",
        "         (\"minute\", 60),\n",
        "         (\"second\", 1)]\n",
        "\n",
        "def format_duration(seconds):\n",
        "\n",
        "    if not seconds:\n",
        "        return \"now\"\n",
        "\n",
        "    chunks = []\n",
        "    for name, secs in times:\n",
        "        qty = seconds // secs\n",
        "        if qty:\n",
        "            if qty > 1:\n",
        "                name += \"s\"\n",
        "            chunks.append(str(qty) + \" \" + name)\n",
        "\n",
        "        seconds = seconds % secs\n",
        "\n",
        "    return ', '.join(chunks[:-1]) + ' and ' + chunks[-1] if len(chunks) > 1 else chunks[0]\n",
        "\n",
        "\n",
        "test()\n",
        "\n",
        "\n",
        "def format_duration(s):\n",
        "    dt = []\n",
        "    for b, w in [(60, 'second'), (60, 'minute'), (24, 'hour'), (365, 'day'), (s+1, 'year')]:\n",
        "\n",
        "        s, m = divmod(s, b)\n",
        "\n",
        "        if m:\n",
        "            dt.append('%d %s%s' % (m, w, 's' * (m > 1)))\n",
        "\n",
        "    return ' and '.join(', '.join(dt[::-1]).rsplit(', ', 1)) or 'now'\n",
        "\n",
        "test()"
      ],
      "metadata": {
        "id": "VJcDs-B7TwD_"
      },
      "execution_count": 69,
      "outputs": []
    },
    {
      "cell_type": "markdown",
      "source": [],
      "metadata": {
        "id": "Q-tEKV6DTv2S"
      }
    }
  ]
}